{
 "cells": [
  {
   "cell_type": "markdown",
   "metadata": {},
   "source": [
    "# <font color = 'red'>Also see L1 Starter Notes committed.</font>\n",
    "\n",
    "### Question we will answer is : How do daily_engagements (For the first week) look like for students who eventually pass their first project vs students who don't.\n",
    "\n",
    "\n",
    "We have 3 tables : enrollments, daily_engagement and project submission.\n",
    "Please exclude rows that have is_udacity = true. They are udacity test accounts and their daily_engagement is not garuanteed to be captured.\n",
    "\n",
    "Daily_engagements are captured every day for every user irrespective of whether he logs in or not.\n",
    "For students cancelling on the same day as joining, the daily_engagment will not be captured. Filter them out.\n",
    "\n",
    "We will be checking the daily_engagemnt of every student for the first week after enrolling. How this first weeks engagemnt affects their first project grading.\n",
    "\n",
    "Therefore, we will also filter out students who have cancelled their subscriptions in the first week."
   ]
  },
  {
   "cell_type": "code",
   "execution_count": 177,
   "metadata": {
    "collapsed": true
   },
   "outputs": [],
   "source": [
    "import pandas as pd\n",
    "import numpy as np\n",
    "import matplotlib.pyplot as plt\n",
    "%matplotlib inline"
   ]
  },
  {
   "cell_type": "code",
   "execution_count": 178,
   "metadata": {},
   "outputs": [
    {
     "name": "stdout",
     "output_type": "stream",
     "text": [
      "<class 'pandas.core.frame.DataFrame'>\n",
      "RangeIndex: 1640 entries, 0 to 1639\n",
      "Data columns (total 7 columns):\n",
      "account_key       1640 non-null int64\n",
      "status            1640 non-null category\n",
      "join_date         1640 non-null datetime64[ns]\n",
      "cancel_date       988 non-null datetime64[ns]\n",
      "days_to_cancel    988 non-null float64\n",
      "is_udacity        1640 non-null bool\n",
      "is_canceled       1640 non-null bool\n",
      "dtypes: bool(2), category(1), datetime64[ns](2), float64(1), int64(1)\n",
      "memory usage: 56.2 KB\n"
     ]
    },
    {
     "data": {
      "text/plain": [
       "1302"
      ]
     },
     "execution_count": 178,
     "metadata": {},
     "output_type": "execute_result"
    }
   ],
   "source": [
    "enrollments = pd.read_csv(\"enrollments.csv\")\n",
    "enrollments['days_to_cancel'] = pd.to_numeric(enrollments['days_to_cancel'], downcast='unsigned')\n",
    "enrollments['status'] = enrollments['status'].astype('category')\n",
    "enrollments['join_date'] = pd.to_datetime(enrollments['join_date'], format=\"%Y-%m-%d\")\n",
    "enrollments['cancel_date'] = pd.to_datetime(enrollments['cancel_date'], format= \"%Y-%m-%d\")\n",
    "enrollments.info()\n",
    "enrollments.head()\n",
    "#Unique account ids?\n",
    "enrollments['account_key'].nunique()"
   ]
  },
  {
   "cell_type": "code",
   "execution_count": 179,
   "metadata": {},
   "outputs": [
    {
     "data": {
      "text/html": [
       "<div>\n",
       "<style>\n",
       "    .dataframe thead tr:only-child th {\n",
       "        text-align: right;\n",
       "    }\n",
       "\n",
       "    .dataframe thead th {\n",
       "        text-align: left;\n",
       "    }\n",
       "\n",
       "    .dataframe tbody tr th {\n",
       "        vertical-align: top;\n",
       "    }\n",
       "</style>\n",
       "<table border=\"1\" class=\"dataframe\">\n",
       "  <thead>\n",
       "    <tr style=\"text-align: right;\">\n",
       "      <th></th>\n",
       "      <th>account_key</th>\n",
       "      <th>status</th>\n",
       "      <th>join_date</th>\n",
       "      <th>cancel_date</th>\n",
       "      <th>days_to_cancel</th>\n",
       "      <th>is_udacity</th>\n",
       "      <th>is_canceled</th>\n",
       "    </tr>\n",
       "  </thead>\n",
       "  <tbody>\n",
       "    <tr>\n",
       "      <th>0</th>\n",
       "      <td>448</td>\n",
       "      <td>canceled</td>\n",
       "      <td>2014-11-10</td>\n",
       "      <td>2015-01-14</td>\n",
       "      <td>65.0</td>\n",
       "      <td>True</td>\n",
       "      <td>True</td>\n",
       "    </tr>\n",
       "    <tr>\n",
       "      <th>1</th>\n",
       "      <td>448</td>\n",
       "      <td>canceled</td>\n",
       "      <td>2014-11-05</td>\n",
       "      <td>2014-11-10</td>\n",
       "      <td>5.0</td>\n",
       "      <td>True</td>\n",
       "      <td>True</td>\n",
       "    </tr>\n",
       "    <tr>\n",
       "      <th>2</th>\n",
       "      <td>448</td>\n",
       "      <td>canceled</td>\n",
       "      <td>2015-01-27</td>\n",
       "      <td>2015-01-27</td>\n",
       "      <td>0.0</td>\n",
       "      <td>True</td>\n",
       "      <td>True</td>\n",
       "    </tr>\n",
       "    <tr>\n",
       "      <th>3</th>\n",
       "      <td>448</td>\n",
       "      <td>canceled</td>\n",
       "      <td>2014-11-10</td>\n",
       "      <td>2014-11-10</td>\n",
       "      <td>0.0</td>\n",
       "      <td>True</td>\n",
       "      <td>True</td>\n",
       "    </tr>\n",
       "    <tr>\n",
       "      <th>4</th>\n",
       "      <td>448</td>\n",
       "      <td>current</td>\n",
       "      <td>2015-03-10</td>\n",
       "      <td>NaT</td>\n",
       "      <td>NaN</td>\n",
       "      <td>True</td>\n",
       "      <td>False</td>\n",
       "    </tr>\n",
       "    <tr>\n",
       "      <th>5</th>\n",
       "      <td>448</td>\n",
       "      <td>canceled</td>\n",
       "      <td>2015-01-14</td>\n",
       "      <td>2015-01-27</td>\n",
       "      <td>13.0</td>\n",
       "      <td>True</td>\n",
       "      <td>True</td>\n",
       "    </tr>\n",
       "    <tr>\n",
       "      <th>6</th>\n",
       "      <td>448</td>\n",
       "      <td>canceled</td>\n",
       "      <td>2015-01-27</td>\n",
       "      <td>2015-03-10</td>\n",
       "      <td>42.0</td>\n",
       "      <td>True</td>\n",
       "      <td>True</td>\n",
       "    </tr>\n",
       "    <tr>\n",
       "      <th>7</th>\n",
       "      <td>448</td>\n",
       "      <td>canceled</td>\n",
       "      <td>2015-01-27</td>\n",
       "      <td>2015-01-27</td>\n",
       "      <td>0.0</td>\n",
       "      <td>True</td>\n",
       "      <td>True</td>\n",
       "    </tr>\n",
       "    <tr>\n",
       "      <th>8</th>\n",
       "      <td>448</td>\n",
       "      <td>canceled</td>\n",
       "      <td>2015-01-27</td>\n",
       "      <td>2015-01-27</td>\n",
       "      <td>0.0</td>\n",
       "      <td>True</td>\n",
       "      <td>True</td>\n",
       "    </tr>\n",
       "    <tr>\n",
       "      <th>9</th>\n",
       "      <td>700</td>\n",
       "      <td>canceled</td>\n",
       "      <td>2014-11-10</td>\n",
       "      <td>2014-11-16</td>\n",
       "      <td>6.0</td>\n",
       "      <td>False</td>\n",
       "      <td>True</td>\n",
       "    </tr>\n",
       "  </tbody>\n",
       "</table>\n",
       "</div>"
      ],
      "text/plain": [
       "   account_key    status  join_date cancel_date  days_to_cancel  is_udacity  \\\n",
       "0          448  canceled 2014-11-10  2015-01-14            65.0        True   \n",
       "1          448  canceled 2014-11-05  2014-11-10             5.0        True   \n",
       "2          448  canceled 2015-01-27  2015-01-27             0.0        True   \n",
       "3          448  canceled 2014-11-10  2014-11-10             0.0        True   \n",
       "4          448   current 2015-03-10         NaT             NaN        True   \n",
       "5          448  canceled 2015-01-14  2015-01-27            13.0        True   \n",
       "6          448  canceled 2015-01-27  2015-03-10            42.0        True   \n",
       "7          448  canceled 2015-01-27  2015-01-27             0.0        True   \n",
       "8          448  canceled 2015-01-27  2015-01-27             0.0        True   \n",
       "9          700  canceled 2014-11-10  2014-11-16             6.0       False   \n",
       "\n",
       "   is_canceled  \n",
       "0         True  \n",
       "1         True  \n",
       "2         True  \n",
       "3         True  \n",
       "4        False  \n",
       "5         True  \n",
       "6         True  \n",
       "7         True  \n",
       "8         True  \n",
       "9         True  "
      ]
     },
     "execution_count": 179,
     "metadata": {},
     "output_type": "execute_result"
    }
   ],
   "source": [
    "enrollments.head(10)\n",
    "#Why are some students missing from daily_engagement?\n",
    "#Daily engagement is supposed to be captured for every student every day whether he logs in or not(check unique counts)\n",
    "#enrollments[enrollments['join_date'] == enrollments['cancel_date']] ?"
   ]
  },
  {
   "cell_type": "code",
   "execution_count": 180,
   "metadata": {},
   "outputs": [
    {
     "name": "stdout",
     "output_type": "stream",
     "text": [
      "<class 'pandas.core.frame.DataFrame'>\n",
      "RangeIndex: 136240 entries, 0 to 136239\n",
      "Data columns (total 6 columns):\n",
      "account_key              136240 non-null int64\n",
      "utc_date                 136240 non-null datetime64[ns]\n",
      "num_courses_visited      136240 non-null uint8\n",
      "total_minutes_visited    136240 non-null float64\n",
      "lessons_completed        136240 non-null uint8\n",
      "projects_completed       136240 non-null uint8\n",
      "dtypes: datetime64[ns](1), float64(1), int64(1), uint8(3)\n",
      "memory usage: 3.5 MB\n"
     ]
    },
    {
     "data": {
      "text/plain": [
       "1237"
      ]
     },
     "execution_count": 180,
     "metadata": {},
     "output_type": "execute_result"
    }
   ],
   "source": [
    "dailyEngagement = pd.read_csv(\"daily_engagement.csv\")\n",
    "dailyEngagement.columns = ['account_key', 'utc_date', 'num_courses_visited', 'total_minutes_visited',\n",
    "       'lessons_completed', 'projects_completed']\n",
    "dailyEngagement['utc_date'] = pd.to_datetime(dailyEngagement['utc_date'], format=\"%Y-%m-%d\")\n",
    "dailyEngagement['num_courses_visited'] = pd.to_numeric(dailyEngagement['num_courses_visited'], downcast='unsigned') \n",
    "dailyEngagement['lessons_completed'] = pd.to_numeric(dailyEngagement['lessons_completed'], downcast='unsigned') \n",
    "dailyEngagement['projects_completed'] = pd.to_numeric(dailyEngagement['projects_completed'], downcast='unsigned') \n",
    "dailyEngagement.info()\n",
    "dailyEngagement.head()\n",
    "\n",
    "#Unique account ids?\n",
    "dailyEngagement.head()\n",
    "dailyEngagement['account_key'].nunique()"
   ]
  },
  {
   "cell_type": "code",
   "execution_count": 181,
   "metadata": {},
   "outputs": [
    {
     "name": "stdout",
     "output_type": "stream",
     "text": [
      "      account_key    status  join_date cancel_date  days_to_cancel  \\\n",
      "467          1304  canceled 2015-01-10  2015-03-10            59.0   \n",
      "468          1304  canceled 2015-03-10  2015-06-17            99.0   \n",
      "1378         1101   current 2015-02-25         NaT             NaN   \n",
      "\n",
      "      is_udacity  is_canceled  \n",
      "467         True         True  \n",
      "468         True         True  \n",
      "1378        True        False  \n"
     ]
    }
   ],
   "source": [
    "#Print one row that is in enrollment but not in daily_engagement\n",
    "notInDailyEng = ~enrollments['account_key'].isin(dailyEngagement['account_key'])\n",
    "sameDayCancel = enrollments[\"join_date\"] == enrollments[\"cancel_date\"]\n",
    "notSameDayCancel = ~sameDayCancel\n",
    "notInDailyAndNotSameDayCancel = np.logical_and(notInDailyEng, notSameDayCancel)\n",
    "print(enrollments[notInDailyAndNotSameDayCancel])\n",
    "#These are udacity test accounts. Filter them out too."
   ]
  },
  {
   "cell_type": "code",
   "execution_count": 182,
   "metadata": {},
   "outputs": [
    {
     "data": {
      "text/html": [
       "<div>\n",
       "<style>\n",
       "    .dataframe thead tr:only-child th {\n",
       "        text-align: right;\n",
       "    }\n",
       "\n",
       "    .dataframe thead th {\n",
       "        text-align: left;\n",
       "    }\n",
       "\n",
       "    .dataframe tbody tr th {\n",
       "        vertical-align: top;\n",
       "    }\n",
       "</style>\n",
       "<table border=\"1\" class=\"dataframe\">\n",
       "  <thead>\n",
       "    <tr style=\"text-align: right;\">\n",
       "      <th></th>\n",
       "      <th>account_key</th>\n",
       "      <th>utc_date</th>\n",
       "      <th>num_courses_visited</th>\n",
       "      <th>total_minutes_visited</th>\n",
       "      <th>lessons_completed</th>\n",
       "      <th>projects_completed</th>\n",
       "    </tr>\n",
       "  </thead>\n",
       "  <tbody>\n",
       "    <tr>\n",
       "      <th>0</th>\n",
       "      <td>0</td>\n",
       "      <td>2015-01-09</td>\n",
       "      <td>1</td>\n",
       "      <td>11.679374</td>\n",
       "      <td>0</td>\n",
       "      <td>0</td>\n",
       "    </tr>\n",
       "    <tr>\n",
       "      <th>1</th>\n",
       "      <td>0</td>\n",
       "      <td>2015-01-10</td>\n",
       "      <td>2</td>\n",
       "      <td>37.284887</td>\n",
       "      <td>0</td>\n",
       "      <td>0</td>\n",
       "    </tr>\n",
       "    <tr>\n",
       "      <th>2</th>\n",
       "      <td>0</td>\n",
       "      <td>2015-01-11</td>\n",
       "      <td>2</td>\n",
       "      <td>53.633746</td>\n",
       "      <td>0</td>\n",
       "      <td>0</td>\n",
       "    </tr>\n",
       "    <tr>\n",
       "      <th>3</th>\n",
       "      <td>0</td>\n",
       "      <td>2015-01-12</td>\n",
       "      <td>1</td>\n",
       "      <td>33.489270</td>\n",
       "      <td>0</td>\n",
       "      <td>0</td>\n",
       "    </tr>\n",
       "    <tr>\n",
       "      <th>4</th>\n",
       "      <td>0</td>\n",
       "      <td>2015-01-13</td>\n",
       "      <td>1</td>\n",
       "      <td>64.779678</td>\n",
       "      <td>0</td>\n",
       "      <td>0</td>\n",
       "    </tr>\n",
       "  </tbody>\n",
       "</table>\n",
       "</div>"
      ],
      "text/plain": [
       "   account_key   utc_date  num_courses_visited  total_minutes_visited  \\\n",
       "0            0 2015-01-09                    1              11.679374   \n",
       "1            0 2015-01-10                    2              37.284887   \n",
       "2            0 2015-01-11                    2              53.633746   \n",
       "3            0 2015-01-12                    1              33.489270   \n",
       "4            0 2015-01-13                    1              64.779678   \n",
       "\n",
       "   lessons_completed  projects_completed  \n",
       "0                  0                   0  \n",
       "1                  0                   0  \n",
       "2                  0                   0  \n",
       "3                  0                   0  \n",
       "4                  0                   0  "
      ]
     },
     "execution_count": 182,
     "metadata": {},
     "output_type": "execute_result"
    }
   ],
   "source": [
    "dailyEngagement.head()"
   ]
  },
  {
   "cell_type": "code",
   "execution_count": 183,
   "metadata": {},
   "outputs": [
    {
     "name": "stdout",
     "output_type": "stream",
     "text": [
      "<class 'pandas.core.frame.DataFrame'>\n",
      "RangeIndex: 3642 entries, 0 to 3641\n",
      "Data columns (total 6 columns):\n",
      "creation_date       3642 non-null datetime64[ns]\n",
      "completion_date     3636 non-null datetime64[ns]\n",
      "assigned_rating     3636 non-null category\n",
      "account_key         3642 non-null int64\n",
      "lesson_key          3642 non-null int64\n",
      "processing_state    3642 non-null category\n",
      "dtypes: category(2), datetime64[ns](2), int64(2)\n",
      "memory usage: 121.3 KB\n"
     ]
    },
    {
     "data": {
      "text/plain": [
       "743"
      ]
     },
     "execution_count": 183,
     "metadata": {},
     "output_type": "execute_result"
    }
   ],
   "source": [
    "\n",
    "projectSubmissions = pd.read_csv(\"project_submissions.csv\")\n",
    "projectSubmissions['creation_date'] = pd.to_datetime(projectSubmissions['creation_date'], format=\"%Y-%m-%d\")\n",
    "projectSubmissions['completion_date'] = pd.to_datetime(projectSubmissions['completion_date'], format=\"%Y-%m-%d\")\n",
    "projectSubmissions['assigned_rating'] = projectSubmissions['assigned_rating'].astype('category')\n",
    "projectSubmissions['processing_state'] = projectSubmissions['processing_state'].astype('category')\n",
    "projectSubmissions.info()\n",
    "projectSubmissions.head()\n",
    "\n",
    "#Unique account ids?\n",
    "projectSubmissions['account_key'].nunique()"
   ]
  },
  {
   "cell_type": "code",
   "execution_count": 184,
   "metadata": {},
   "outputs": [
    {
     "data": {
      "text/html": [
       "<div>\n",
       "<style>\n",
       "    .dataframe thead tr:only-child th {\n",
       "        text-align: right;\n",
       "    }\n",
       "\n",
       "    .dataframe thead th {\n",
       "        text-align: left;\n",
       "    }\n",
       "\n",
       "    .dataframe tbody tr th {\n",
       "        vertical-align: top;\n",
       "    }\n",
       "</style>\n",
       "<table border=\"1\" class=\"dataframe\">\n",
       "  <thead>\n",
       "    <tr style=\"text-align: right;\">\n",
       "      <th></th>\n",
       "      <th>creation_date</th>\n",
       "      <th>completion_date</th>\n",
       "      <th>assigned_rating</th>\n",
       "      <th>account_key</th>\n",
       "      <th>lesson_key</th>\n",
       "      <th>processing_state</th>\n",
       "    </tr>\n",
       "  </thead>\n",
       "  <tbody>\n",
       "    <tr>\n",
       "      <th>0</th>\n",
       "      <td>2015-01-14</td>\n",
       "      <td>2015-01-16</td>\n",
       "      <td>UNGRADED</td>\n",
       "      <td>256</td>\n",
       "      <td>3176718735</td>\n",
       "      <td>EVALUATED</td>\n",
       "    </tr>\n",
       "    <tr>\n",
       "      <th>1</th>\n",
       "      <td>2015-01-10</td>\n",
       "      <td>2015-01-13</td>\n",
       "      <td>INCOMPLETE</td>\n",
       "      <td>256</td>\n",
       "      <td>3176718735</td>\n",
       "      <td>EVALUATED</td>\n",
       "    </tr>\n",
       "    <tr>\n",
       "      <th>2</th>\n",
       "      <td>2015-01-20</td>\n",
       "      <td>2015-01-20</td>\n",
       "      <td>PASSED</td>\n",
       "      <td>256</td>\n",
       "      <td>3176718735</td>\n",
       "      <td>EVALUATED</td>\n",
       "    </tr>\n",
       "    <tr>\n",
       "      <th>3</th>\n",
       "      <td>2015-03-10</td>\n",
       "      <td>2015-03-13</td>\n",
       "      <td>PASSED</td>\n",
       "      <td>434</td>\n",
       "      <td>3176718735</td>\n",
       "      <td>EVALUATED</td>\n",
       "    </tr>\n",
       "    <tr>\n",
       "      <th>4</th>\n",
       "      <td>2015-02-17</td>\n",
       "      <td>2015-03-03</td>\n",
       "      <td>INCOMPLETE</td>\n",
       "      <td>434</td>\n",
       "      <td>3176718735</td>\n",
       "      <td>EVALUATED</td>\n",
       "    </tr>\n",
       "  </tbody>\n",
       "</table>\n",
       "</div>"
      ],
      "text/plain": [
       "  creation_date completion_date assigned_rating  account_key  lesson_key  \\\n",
       "0    2015-01-14      2015-01-16        UNGRADED          256  3176718735   \n",
       "1    2015-01-10      2015-01-13      INCOMPLETE          256  3176718735   \n",
       "2    2015-01-20      2015-01-20          PASSED          256  3176718735   \n",
       "3    2015-03-10      2015-03-13          PASSED          434  3176718735   \n",
       "4    2015-02-17      2015-03-03      INCOMPLETE          434  3176718735   \n",
       "\n",
       "  processing_state  \n",
       "0        EVALUATED  \n",
       "1        EVALUATED  \n",
       "2        EVALUATED  \n",
       "3        EVALUATED  \n",
       "4        EVALUATED  "
      ]
     },
     "execution_count": 184,
     "metadata": {},
     "output_type": "execute_result"
    }
   ],
   "source": [
    "projectSubmissions.head()"
   ]
  },
  {
   "cell_type": "code",
   "execution_count": 185,
   "metadata": {},
   "outputs": [
    {
     "name": "stdout",
     "output_type": "stream",
     "text": [
      "<class 'pandas.core.frame.DataFrame'>\n",
      "Int64Index: 1215 entries, 10 to 1639\n",
      "Data columns (total 7 columns):\n",
      "account_key       1215 non-null int64\n",
      "status            1215 non-null category\n",
      "join_date         1215 non-null datetime64[ns]\n",
      "cancel_date       566 non-null datetime64[ns]\n",
      "days_to_cancel    566 non-null float64\n",
      "is_udacity        1215 non-null bool\n",
      "is_canceled       1215 non-null bool\n",
      "dtypes: bool(2), category(1), datetime64[ns](2), float64(1), int64(1)\n",
      "memory usage: 51.1 KB\n"
     ]
    }
   ],
   "source": [
    "#Find students who have not cancelled their enrollment/or not cancelled within 7 days(Trial period), also exclude udacity test accounts\n",
    "cancelledAfter7Days = enrollments['days_to_cancel'] > 7\n",
    "\n",
    "notCancelled = np.isnan(enrollments['days_to_cancel'])\n",
    "\n",
    "paidStudentSeries = np.logical_or(cancelledAfter7Days, notCancelled)\n",
    "\n",
    "ExcludeTestSeries = np.logical_and(paidStudentSeries, ~enrollments[\"is_udacity\"])\n",
    "\n",
    "paidStudents = enrollments[ExcludeTestSeries]\n",
    "\n",
    "#paidStudents.tail(10)\n",
    "#paidStudents.info()\n",
    "#unique students who meet this condition\n",
    "#paidStudents[\"account_key\"].value_counts()\n",
    "#paidStudents[paidStudents[\"account_key\"] == 329]\n",
    "paidStudents[\"account_key\"].nunique()\n",
    "paidStudents.info()"
   ]
  },
  {
   "cell_type": "code",
   "execution_count": 186,
   "metadata": {},
   "outputs": [
    {
     "name": "stdout",
     "output_type": "stream",
     "text": [
      "<class 'pandas.core.frame.DataFrame'>\n",
      "Int64Index: 995 entries, 0 to 1305\n",
      "Data columns (total 6 columns):\n",
      "status            995 non-null object\n",
      "join_date         995 non-null datetime64[ns]\n",
      "cancel_date       445 non-null datetime64[ns]\n",
      "days_to_cancel    445 non-null float64\n",
      "is_udacity        995 non-null bool\n",
      "is_canceled       995 non-null bool\n",
      "dtypes: bool(2), datetime64[ns](2), float64(1), object(1)\n",
      "memory usage: 40.8+ KB\n"
     ]
    }
   ],
   "source": [
    "# Get their most recent enrollments\n",
    "# First create account_key as the index.\n",
    "paidStudents = paidStudents.set_index('account_key')\n",
    "paidStudents = paidStudents.sort_values(by='join_date', ascending=False).groupby(level=0).first()\n",
    "paidStudents.info()"
   ]
  },
  {
   "cell_type": "code",
   "execution_count": 187,
   "metadata": {},
   "outputs": [
    {
     "data": {
      "text/html": [
       "<div>\n",
       "<style>\n",
       "    .dataframe thead tr:only-child th {\n",
       "        text-align: right;\n",
       "    }\n",
       "\n",
       "    .dataframe thead th {\n",
       "        text-align: left;\n",
       "    }\n",
       "\n",
       "    .dataframe tbody tr th {\n",
       "        vertical-align: top;\n",
       "    }\n",
       "</style>\n",
       "<table border=\"1\" class=\"dataframe\">\n",
       "  <thead>\n",
       "    <tr style=\"text-align: right;\">\n",
       "      <th></th>\n",
       "      <th>status</th>\n",
       "      <th>join_date</th>\n",
       "      <th>cancel_date</th>\n",
       "      <th>days_to_cancel</th>\n",
       "      <th>is_udacity</th>\n",
       "      <th>is_canceled</th>\n",
       "      <th>utc_date</th>\n",
       "      <th>num_courses_visited</th>\n",
       "      <th>total_minutes_visited</th>\n",
       "      <th>lessons_completed</th>\n",
       "      <th>projects_completed</th>\n",
       "    </tr>\n",
       "    <tr>\n",
       "      <th>account_key</th>\n",
       "      <th></th>\n",
       "      <th></th>\n",
       "      <th></th>\n",
       "      <th></th>\n",
       "      <th></th>\n",
       "      <th></th>\n",
       "      <th></th>\n",
       "      <th></th>\n",
       "      <th></th>\n",
       "      <th></th>\n",
       "      <th></th>\n",
       "    </tr>\n",
       "  </thead>\n",
       "  <tbody>\n",
       "    <tr>\n",
       "      <th>0</th>\n",
       "      <td>current</td>\n",
       "      <td>2015-01-09</td>\n",
       "      <td>NaT</td>\n",
       "      <td>NaN</td>\n",
       "      <td>False</td>\n",
       "      <td>False</td>\n",
       "      <td>2015-01-09</td>\n",
       "      <td>1</td>\n",
       "      <td>11.679374</td>\n",
       "      <td>0</td>\n",
       "      <td>0</td>\n",
       "    </tr>\n",
       "    <tr>\n",
       "      <th>0</th>\n",
       "      <td>current</td>\n",
       "      <td>2015-01-09</td>\n",
       "      <td>NaT</td>\n",
       "      <td>NaN</td>\n",
       "      <td>False</td>\n",
       "      <td>False</td>\n",
       "      <td>2015-01-10</td>\n",
       "      <td>2</td>\n",
       "      <td>37.284887</td>\n",
       "      <td>0</td>\n",
       "      <td>0</td>\n",
       "    </tr>\n",
       "    <tr>\n",
       "      <th>0</th>\n",
       "      <td>current</td>\n",
       "      <td>2015-01-09</td>\n",
       "      <td>NaT</td>\n",
       "      <td>NaN</td>\n",
       "      <td>False</td>\n",
       "      <td>False</td>\n",
       "      <td>2015-01-11</td>\n",
       "      <td>2</td>\n",
       "      <td>53.633746</td>\n",
       "      <td>0</td>\n",
       "      <td>0</td>\n",
       "    </tr>\n",
       "    <tr>\n",
       "      <th>0</th>\n",
       "      <td>current</td>\n",
       "      <td>2015-01-09</td>\n",
       "      <td>NaT</td>\n",
       "      <td>NaN</td>\n",
       "      <td>False</td>\n",
       "      <td>False</td>\n",
       "      <td>2015-01-12</td>\n",
       "      <td>1</td>\n",
       "      <td>33.489270</td>\n",
       "      <td>0</td>\n",
       "      <td>0</td>\n",
       "    </tr>\n",
       "    <tr>\n",
       "      <th>0</th>\n",
       "      <td>current</td>\n",
       "      <td>2015-01-09</td>\n",
       "      <td>NaT</td>\n",
       "      <td>NaN</td>\n",
       "      <td>False</td>\n",
       "      <td>False</td>\n",
       "      <td>2015-01-13</td>\n",
       "      <td>1</td>\n",
       "      <td>64.779678</td>\n",
       "      <td>0</td>\n",
       "      <td>0</td>\n",
       "    </tr>\n",
       "    <tr>\n",
       "      <th>0</th>\n",
       "      <td>current</td>\n",
       "      <td>2015-01-09</td>\n",
       "      <td>NaT</td>\n",
       "      <td>NaN</td>\n",
       "      <td>False</td>\n",
       "      <td>False</td>\n",
       "      <td>2015-01-14</td>\n",
       "      <td>1</td>\n",
       "      <td>151.617577</td>\n",
       "      <td>1</td>\n",
       "      <td>0</td>\n",
       "    </tr>\n",
       "    <tr>\n",
       "      <th>0</th>\n",
       "      <td>current</td>\n",
       "      <td>2015-01-09</td>\n",
       "      <td>NaT</td>\n",
       "      <td>NaN</td>\n",
       "      <td>False</td>\n",
       "      <td>False</td>\n",
       "      <td>2015-01-15</td>\n",
       "      <td>1</td>\n",
       "      <td>142.395964</td>\n",
       "      <td>0</td>\n",
       "      <td>0</td>\n",
       "    </tr>\n",
       "    <tr>\n",
       "      <th>0</th>\n",
       "      <td>current</td>\n",
       "      <td>2015-01-09</td>\n",
       "      <td>NaT</td>\n",
       "      <td>NaN</td>\n",
       "      <td>False</td>\n",
       "      <td>False</td>\n",
       "      <td>2015-01-16</td>\n",
       "      <td>0</td>\n",
       "      <td>0.000000</td>\n",
       "      <td>0</td>\n",
       "      <td>0</td>\n",
       "    </tr>\n",
       "    <tr>\n",
       "      <th>0</th>\n",
       "      <td>current</td>\n",
       "      <td>2015-01-09</td>\n",
       "      <td>NaT</td>\n",
       "      <td>NaN</td>\n",
       "      <td>False</td>\n",
       "      <td>False</td>\n",
       "      <td>2015-01-17</td>\n",
       "      <td>1</td>\n",
       "      <td>9.849562</td>\n",
       "      <td>0</td>\n",
       "      <td>0</td>\n",
       "    </tr>\n",
       "    <tr>\n",
       "      <th>0</th>\n",
       "      <td>current</td>\n",
       "      <td>2015-01-09</td>\n",
       "      <td>NaT</td>\n",
       "      <td>NaN</td>\n",
       "      <td>False</td>\n",
       "      <td>False</td>\n",
       "      <td>2015-01-18</td>\n",
       "      <td>1</td>\n",
       "      <td>38.330548</td>\n",
       "      <td>0</td>\n",
       "      <td>0</td>\n",
       "    </tr>\n",
       "  </tbody>\n",
       "</table>\n",
       "</div>"
      ],
      "text/plain": [
       "              status  join_date cancel_date  days_to_cancel  is_udacity  \\\n",
       "account_key                                                               \n",
       "0            current 2015-01-09         NaT             NaN       False   \n",
       "0            current 2015-01-09         NaT             NaN       False   \n",
       "0            current 2015-01-09         NaT             NaN       False   \n",
       "0            current 2015-01-09         NaT             NaN       False   \n",
       "0            current 2015-01-09         NaT             NaN       False   \n",
       "0            current 2015-01-09         NaT             NaN       False   \n",
       "0            current 2015-01-09         NaT             NaN       False   \n",
       "0            current 2015-01-09         NaT             NaN       False   \n",
       "0            current 2015-01-09         NaT             NaN       False   \n",
       "0            current 2015-01-09         NaT             NaN       False   \n",
       "\n",
       "             is_canceled   utc_date  num_courses_visited  \\\n",
       "account_key                                                \n",
       "0                  False 2015-01-09                    1   \n",
       "0                  False 2015-01-10                    2   \n",
       "0                  False 2015-01-11                    2   \n",
       "0                  False 2015-01-12                    1   \n",
       "0                  False 2015-01-13                    1   \n",
       "0                  False 2015-01-14                    1   \n",
       "0                  False 2015-01-15                    1   \n",
       "0                  False 2015-01-16                    0   \n",
       "0                  False 2015-01-17                    1   \n",
       "0                  False 2015-01-18                    1   \n",
       "\n",
       "             total_minutes_visited  lessons_completed  projects_completed  \n",
       "account_key                                                                \n",
       "0                        11.679374                  0                   0  \n",
       "0                        37.284887                  0                   0  \n",
       "0                        53.633746                  0                   0  \n",
       "0                        33.489270                  0                   0  \n",
       "0                        64.779678                  0                   0  \n",
       "0                       151.617577                  1                   0  \n",
       "0                       142.395964                  0                   0  \n",
       "0                         0.000000                  0                   0  \n",
       "0                         9.849562                  0                   0  \n",
       "0                        38.330548                  0                   0  "
      ]
     },
     "execution_count": 187,
     "metadata": {},
     "output_type": "execute_result"
    }
   ],
   "source": [
    "#Create a list of rows from the engagement table including only rows where\\n\",\n",
    "# the student is one of the paid students you just found, and the date is within\\n\",\n",
    "# one week of the student's join date\n",
    "\n",
    "\n",
    "#i.e for the particular account key, find all records in the daily engagement table that have a span of \n",
    "#7 days from that person joining.\n",
    "\n",
    "dailyEngagement = dailyEngagement.set_index(\"account_key\")\n",
    "paidStudentsEngagement = paidStudents.join(dailyEngagement)\n",
    "paidStudentsEngagement.head(10)"
   ]
  },
  {
   "cell_type": "code",
   "execution_count": 188,
   "metadata": {
    "collapsed": true
   },
   "outputs": [],
   "source": [
    "#Filter out dates that are > than 7 days of joining\n",
    "#paidStudentsEngagementForFirst7Days = paidStudentsEngagement[(paidStudentsEngagement[\"utc_date\"] - paidStudentsEngagement[\"join_date\"]).dt.days < 7]\n"
   ]
  },
  {
   "cell_type": "code",
   "execution_count": 189,
   "metadata": {
    "collapsed": true
   },
   "outputs": [],
   "source": [
    "#paidStudentsEngagementForFirst7Days.info()"
   ]
  },
  {
   "cell_type": "code",
   "execution_count": 190,
   "metadata": {
    "collapsed": true
   },
   "outputs": [],
   "source": [
    "#paidStudentsEngagementForFirst7Days.head(20)"
   ]
  },
  {
   "cell_type": "code",
   "execution_count": 191,
   "metadata": {
    "collapsed": true
   },
   "outputs": [],
   "source": [
    "#Total minutes spent per user = \n",
    "#totalMinutesSpentPerUser = paidStudentsEngagementForFirst7Days.groupby(\"account_key\")[\"total_minutes_visited\"].sum()"
   ]
  },
  {
   "cell_type": "code",
   "execution_count": 192,
   "metadata": {
    "collapsed": true
   },
   "outputs": [],
   "source": [
    "#totalMinutesSpentPerUser.head()"
   ]
  },
  {
   "cell_type": "code",
   "execution_count": 193,
   "metadata": {
    "collapsed": true
   },
   "outputs": [],
   "source": [
    "#Per user stats\n",
    "#print(np.mean(totalMinutesSpentPerUser))\n",
    "#print(np.std(totalMinutesSpentPerUser))\n",
    "#print(np.min(totalMinutesSpentPerUser))\n",
    "#print(np.max(totalMinutesSpentPerUser))"
   ]
  },
  {
   "cell_type": "code",
   "execution_count": 194,
   "metadata": {
    "collapsed": true
   },
   "outputs": [],
   "source": [
    "#Max is 10568 minutes. That is greater than 7 days. So something is wrong here.\n",
    "#Which student total is that?\n",
    "#totalMinutesSpentPerUser[totalMinutesSpentPerUser > 10000]"
   ]
  },
  {
   "cell_type": "code",
   "execution_count": 195,
   "metadata": {
    "collapsed": true
   },
   "outputs": [],
   "source": [
    "#Account key 108 is flawd. Lets check its daily engagements\n",
    "#paidStudentsEngagementForFirst7Days.loc[108]"
   ]
  },
  {
   "cell_type": "code",
   "execution_count": 196,
   "metadata": {
    "collapsed": true
   },
   "outputs": [],
   "source": [
    "# Also check whether utc_date > join_date :) \n",
    "paidStudentsEngagementForFirst7Days = paidStudentsEngagement[(paidStudentsEngagement[\"utc_date\"] - paidStudentsEngagement[\"join_date\"]).dt.days < 7]\n",
    "#paidStudentsEngagementForFirst7Days = paidStudentsEngagementForFirst7Days[(paidStudentsEngagement[\"utc_date\"] - paidStudentsEngagement[\"join_date\"]).dt.days >= 0]"
   ]
  },
  {
   "cell_type": "code",
   "execution_count": 197,
   "metadata": {
    "collapsed": true
   },
   "outputs": [],
   "source": [
    "engagDf = paidStudentsEngagementForFirst7Days[(paidStudentsEngagementForFirst7Days[\"utc_date\"] - paidStudentsEngagementForFirst7Days[\"join_date\"]).dt.days >= 0]"
   ]
  },
  {
   "cell_type": "code",
   "execution_count": 198,
   "metadata": {},
   "outputs": [
    {
     "name": "stdout",
     "output_type": "stream",
     "text": [
      "<class 'pandas.core.frame.DataFrame'>\n",
      "Int64Index: 6919 entries, 0 to 1305\n",
      "Data columns (total 11 columns):\n",
      "status                   6919 non-null object\n",
      "join_date                6919 non-null datetime64[ns]\n",
      "cancel_date              3114 non-null datetime64[ns]\n",
      "days_to_cancel           3114 non-null float64\n",
      "is_udacity               6919 non-null bool\n",
      "is_canceled              6919 non-null bool\n",
      "utc_date                 6919 non-null datetime64[ns]\n",
      "num_courses_visited      6919 non-null uint8\n",
      "total_minutes_visited    6919 non-null float64\n",
      "lessons_completed        6919 non-null uint8\n",
      "projects_completed       6919 non-null uint8\n",
      "dtypes: bool(2), datetime64[ns](3), float64(2), object(1), uint8(3)\n",
      "memory usage: 412.2+ KB\n"
     ]
    }
   ],
   "source": [
    "engagDf.info()"
   ]
  },
  {
   "cell_type": "code",
   "execution_count": 199,
   "metadata": {},
   "outputs": [
    {
     "data": {
      "text/html": [
       "<div>\n",
       "<style>\n",
       "    .dataframe thead tr:only-child th {\n",
       "        text-align: right;\n",
       "    }\n",
       "\n",
       "    .dataframe thead th {\n",
       "        text-align: left;\n",
       "    }\n",
       "\n",
       "    .dataframe tbody tr th {\n",
       "        vertical-align: top;\n",
       "    }\n",
       "</style>\n",
       "<table border=\"1\" class=\"dataframe\">\n",
       "  <thead>\n",
       "    <tr style=\"text-align: right;\">\n",
       "      <th></th>\n",
       "      <th>status</th>\n",
       "      <th>join_date</th>\n",
       "      <th>cancel_date</th>\n",
       "      <th>days_to_cancel</th>\n",
       "      <th>is_udacity</th>\n",
       "      <th>is_canceled</th>\n",
       "      <th>utc_date</th>\n",
       "      <th>num_courses_visited</th>\n",
       "      <th>total_minutes_visited</th>\n",
       "      <th>lessons_completed</th>\n",
       "      <th>projects_completed</th>\n",
       "    </tr>\n",
       "    <tr>\n",
       "      <th>account_key</th>\n",
       "      <th></th>\n",
       "      <th></th>\n",
       "      <th></th>\n",
       "      <th></th>\n",
       "      <th></th>\n",
       "      <th></th>\n",
       "      <th></th>\n",
       "      <th></th>\n",
       "      <th></th>\n",
       "      <th></th>\n",
       "      <th></th>\n",
       "    </tr>\n",
       "  </thead>\n",
       "  <tbody>\n",
       "    <tr>\n",
       "      <th>0</th>\n",
       "      <td>current</td>\n",
       "      <td>2015-01-09</td>\n",
       "      <td>NaT</td>\n",
       "      <td>NaN</td>\n",
       "      <td>False</td>\n",
       "      <td>False</td>\n",
       "      <td>2015-01-09</td>\n",
       "      <td>1</td>\n",
       "      <td>11.679374</td>\n",
       "      <td>0</td>\n",
       "      <td>0</td>\n",
       "    </tr>\n",
       "    <tr>\n",
       "      <th>0</th>\n",
       "      <td>current</td>\n",
       "      <td>2015-01-09</td>\n",
       "      <td>NaT</td>\n",
       "      <td>NaN</td>\n",
       "      <td>False</td>\n",
       "      <td>False</td>\n",
       "      <td>2015-01-10</td>\n",
       "      <td>2</td>\n",
       "      <td>37.284887</td>\n",
       "      <td>0</td>\n",
       "      <td>0</td>\n",
       "    </tr>\n",
       "    <tr>\n",
       "      <th>0</th>\n",
       "      <td>current</td>\n",
       "      <td>2015-01-09</td>\n",
       "      <td>NaT</td>\n",
       "      <td>NaN</td>\n",
       "      <td>False</td>\n",
       "      <td>False</td>\n",
       "      <td>2015-01-11</td>\n",
       "      <td>2</td>\n",
       "      <td>53.633746</td>\n",
       "      <td>0</td>\n",
       "      <td>0</td>\n",
       "    </tr>\n",
       "    <tr>\n",
       "      <th>0</th>\n",
       "      <td>current</td>\n",
       "      <td>2015-01-09</td>\n",
       "      <td>NaT</td>\n",
       "      <td>NaN</td>\n",
       "      <td>False</td>\n",
       "      <td>False</td>\n",
       "      <td>2015-01-12</td>\n",
       "      <td>1</td>\n",
       "      <td>33.489270</td>\n",
       "      <td>0</td>\n",
       "      <td>0</td>\n",
       "    </tr>\n",
       "    <tr>\n",
       "      <th>0</th>\n",
       "      <td>current</td>\n",
       "      <td>2015-01-09</td>\n",
       "      <td>NaT</td>\n",
       "      <td>NaN</td>\n",
       "      <td>False</td>\n",
       "      <td>False</td>\n",
       "      <td>2015-01-13</td>\n",
       "      <td>1</td>\n",
       "      <td>64.779678</td>\n",
       "      <td>0</td>\n",
       "      <td>0</td>\n",
       "    </tr>\n",
       "    <tr>\n",
       "      <th>0</th>\n",
       "      <td>current</td>\n",
       "      <td>2015-01-09</td>\n",
       "      <td>NaT</td>\n",
       "      <td>NaN</td>\n",
       "      <td>False</td>\n",
       "      <td>False</td>\n",
       "      <td>2015-01-14</td>\n",
       "      <td>1</td>\n",
       "      <td>151.617577</td>\n",
       "      <td>1</td>\n",
       "      <td>0</td>\n",
       "    </tr>\n",
       "    <tr>\n",
       "      <th>0</th>\n",
       "      <td>current</td>\n",
       "      <td>2015-01-09</td>\n",
       "      <td>NaT</td>\n",
       "      <td>NaN</td>\n",
       "      <td>False</td>\n",
       "      <td>False</td>\n",
       "      <td>2015-01-15</td>\n",
       "      <td>1</td>\n",
       "      <td>142.395964</td>\n",
       "      <td>0</td>\n",
       "      <td>0</td>\n",
       "    </tr>\n",
       "    <tr>\n",
       "      <th>1</th>\n",
       "      <td>current</td>\n",
       "      <td>2015-05-06</td>\n",
       "      <td>NaT</td>\n",
       "      <td>NaN</td>\n",
       "      <td>False</td>\n",
       "      <td>False</td>\n",
       "      <td>2015-05-06</td>\n",
       "      <td>1</td>\n",
       "      <td>9.640248</td>\n",
       "      <td>0</td>\n",
       "      <td>0</td>\n",
       "    </tr>\n",
       "    <tr>\n",
       "      <th>1</th>\n",
       "      <td>current</td>\n",
       "      <td>2015-05-06</td>\n",
       "      <td>NaT</td>\n",
       "      <td>NaN</td>\n",
       "      <td>False</td>\n",
       "      <td>False</td>\n",
       "      <td>2015-05-07</td>\n",
       "      <td>0</td>\n",
       "      <td>0.000000</td>\n",
       "      <td>0</td>\n",
       "      <td>0</td>\n",
       "    </tr>\n",
       "    <tr>\n",
       "      <th>1</th>\n",
       "      <td>current</td>\n",
       "      <td>2015-05-06</td>\n",
       "      <td>NaT</td>\n",
       "      <td>NaN</td>\n",
       "      <td>False</td>\n",
       "      <td>False</td>\n",
       "      <td>2015-05-08</td>\n",
       "      <td>0</td>\n",
       "      <td>0.000000</td>\n",
       "      <td>0</td>\n",
       "      <td>0</td>\n",
       "    </tr>\n",
       "  </tbody>\n",
       "</table>\n",
       "</div>"
      ],
      "text/plain": [
       "              status  join_date cancel_date  days_to_cancel  is_udacity  \\\n",
       "account_key                                                               \n",
       "0            current 2015-01-09         NaT             NaN       False   \n",
       "0            current 2015-01-09         NaT             NaN       False   \n",
       "0            current 2015-01-09         NaT             NaN       False   \n",
       "0            current 2015-01-09         NaT             NaN       False   \n",
       "0            current 2015-01-09         NaT             NaN       False   \n",
       "0            current 2015-01-09         NaT             NaN       False   \n",
       "0            current 2015-01-09         NaT             NaN       False   \n",
       "1            current 2015-05-06         NaT             NaN       False   \n",
       "1            current 2015-05-06         NaT             NaN       False   \n",
       "1            current 2015-05-06         NaT             NaN       False   \n",
       "\n",
       "             is_canceled   utc_date  num_courses_visited  \\\n",
       "account_key                                                \n",
       "0                  False 2015-01-09                    1   \n",
       "0                  False 2015-01-10                    2   \n",
       "0                  False 2015-01-11                    2   \n",
       "0                  False 2015-01-12                    1   \n",
       "0                  False 2015-01-13                    1   \n",
       "0                  False 2015-01-14                    1   \n",
       "0                  False 2015-01-15                    1   \n",
       "1                  False 2015-05-06                    1   \n",
       "1                  False 2015-05-07                    0   \n",
       "1                  False 2015-05-08                    0   \n",
       "\n",
       "             total_minutes_visited  lessons_completed  projects_completed  \n",
       "account_key                                                                \n",
       "0                        11.679374                  0                   0  \n",
       "0                        37.284887                  0                   0  \n",
       "0                        53.633746                  0                   0  \n",
       "0                        33.489270                  0                   0  \n",
       "0                        64.779678                  0                   0  \n",
       "0                       151.617577                  1                   0  \n",
       "0                       142.395964                  0                   0  \n",
       "1                         9.640248                  0                   0  \n",
       "1                         0.000000                  0                   0  \n",
       "1                         0.000000                  0                   0  "
      ]
     },
     "execution_count": 199,
     "metadata": {},
     "output_type": "execute_result"
    }
   ],
   "source": [
    "engagDf.head(10)"
   ]
  },
  {
   "cell_type": "code",
   "execution_count": 200,
   "metadata": {
    "collapsed": true
   },
   "outputs": [],
   "source": [
    "#Lessons completed in the first week per student.\n",
    "\n",
    "lessonsCompletedPerStudentFirstWeek = engagDf.groupby(\"account_key\")[\"lessons_completed\"].sum()"
   ]
  },
  {
   "cell_type": "code",
   "execution_count": 201,
   "metadata": {},
   "outputs": [
    {
     "data": {
      "text/plain": [
       "account_key\n",
       "0    1\n",
       "1    0\n",
       "2    0\n",
       "3    0\n",
       "4    0\n",
       "Name: lessons_completed, dtype: uint8"
      ]
     },
     "execution_count": 201,
     "metadata": {},
     "output_type": "execute_result"
    }
   ],
   "source": [
    "lessonsCompletedPerStudentFirstWeek.head()"
   ]
  },
  {
   "cell_type": "code",
   "execution_count": 202,
   "metadata": {},
   "outputs": [
    {
     "name": "stdout",
     "output_type": "stream",
     "text": [
      "1.63618090452\n",
      "3.00256129983\n",
      "0\n",
      "36\n"
     ]
    }
   ],
   "source": [
    "#Lesson completed stats\n",
    "print(np.mean(lessonsCompletedPerStudentFirstWeek))\n",
    "print(np.std(lessonsCompletedPerStudentFirstWeek))\n",
    "print(np.min(lessonsCompletedPerStudentFirstWeek))\n",
    "print(np.max(lessonsCompletedPerStudentFirstWeek))"
   ]
  },
  {
   "cell_type": "code",
   "execution_count": 203,
   "metadata": {},
   "outputs": [],
   "source": [
    "#Days courses visited\n",
    "def countDaysVisitedAnyCourse(values):\n",
    "    count = 0\n",
    "    for v in values:\n",
    "        if v > 0:\n",
    "            count = count + 1\n",
    "    return count\n",
    "\n",
    "coursesVisited = engagDf.groupby(\"account_key\")[\"num_courses_visited\"].agg(countDaysVisitedAnyCourse)\n"
   ]
  },
  {
   "cell_type": "code",
   "execution_count": 204,
   "metadata": {},
   "outputs": [
    {
     "data": {
      "text/plain": [
       "account_key\n",
       "0    7\n",
       "1    2\n",
       "2    0\n",
       "3    0\n",
       "4    1\n",
       "Name: num_courses_visited, dtype: uint8"
      ]
     },
     "execution_count": 204,
     "metadata": {},
     "output_type": "execute_result"
    }
   ],
   "source": [
    "coursesVisited.head()"
   ]
  },
  {
   "cell_type": "code",
   "execution_count": 205,
   "metadata": {},
   "outputs": [
    {
     "name": "stdout",
     "output_type": "stream",
     "text": [
      "2.86733668342\n",
      "2.25519800292\n",
      "0\n",
      "7\n"
     ]
    }
   ],
   "source": [
    "print(np.mean(coursesVisited))\n",
    "print(np.std(coursesVisited))\n",
    "print(np.min(coursesVisited))\n",
    "print(np.max(coursesVisited))"
   ]
  },
  {
   "cell_type": "code",
   "execution_count": 206,
   "metadata": {},
   "outputs": [],
   "source": [
    "#Split engagements into 2 parts = engagements of students who eventually pass their first project\n",
    "#vs those who dont. lesson key for first project = 746169184, 3176718735\n",
    "#Check projects of students who are in paid daily engagement.\n",
    "u = engagDf.index.unique()\n",
    "#Students who passed their projects\n",
    "p = projectSubmissions[\"assigned_rating\"] == \"PASSED\"\n",
    "d = projectSubmissions[\"assigned_rating\"] == \"DISTINCTION\"\n",
    "passed = np.logical_or(p, d)\n",
    "projectSubmissionsPassedFirst = projectSubmissions[passed]\n",
    "projectSubmissionsPassedFirst = projectSubmissionsPassedFirst[projectSubmissionsPassedFirst[\"lesson_key\"].isin([746169184, 3176718735])]\n",
    "projectSubmissionsPassedFirst = projectSubmissionsPassedFirst[projectSubmissionsPassedFirst[\"account_key\"].isin(u)]"
   ]
  },
  {
   "cell_type": "code",
   "execution_count": 207,
   "metadata": {},
   "outputs": [
    {
     "name": "stdout",
     "output_type": "stream",
     "text": [
      "<class 'pandas.core.frame.DataFrame'>\n",
      "Int64Index: 652 entries, 2 to 3640\n",
      "Data columns (total 6 columns):\n",
      "creation_date       652 non-null datetime64[ns]\n",
      "completion_date     652 non-null datetime64[ns]\n",
      "assigned_rating     652 non-null category\n",
      "account_key         652 non-null int64\n",
      "lesson_key          652 non-null int64\n",
      "processing_state    652 non-null category\n",
      "dtypes: category(2), datetime64[ns](2), int64(2)\n",
      "memory usage: 27.0 KB\n"
     ]
    }
   ],
   "source": [
    "projectSubmissionsPassedFirst.info()"
   ]
  },
  {
   "cell_type": "code",
   "execution_count": 208,
   "metadata": {},
   "outputs": [],
   "source": [
    "#Students who passed their first projects\n",
    "studentsPassed = projectSubmissionsPassedFirst[\"account_key\"].unique()\n",
    "#Students who did not pass their first project\n",
    "studentsFailed = set(u) - set(studentsPassed)\n",
    "studentsPassed = list(studentsPassed)\n",
    "studentsFailed = list(studentsFailed)"
   ]
  },
  {
   "cell_type": "code",
   "execution_count": 209,
   "metadata": {},
   "outputs": [
    {
     "data": {
      "text/plain": [
       "647"
      ]
     },
     "execution_count": 209,
     "metadata": {},
     "output_type": "execute_result"
    }
   ],
   "source": [
    "len(studentsPassed)"
   ]
  },
  {
   "cell_type": "code",
   "execution_count": 210,
   "metadata": {},
   "outputs": [
    {
     "data": {
      "text/plain": [
       "348"
      ]
     },
     "execution_count": 210,
     "metadata": {},
     "output_type": "execute_result"
    }
   ],
   "source": [
    "len(studentsFailed)"
   ]
  },
  {
   "cell_type": "code",
   "execution_count": 211,
   "metadata": {},
   "outputs": [],
   "source": [
    "passingStudentsEngagement = engagDf.loc[studentsPassed]"
   ]
  },
  {
   "cell_type": "code",
   "execution_count": 212,
   "metadata": {},
   "outputs": [],
   "source": [
    "failingStudentsEngagement = engagDf.loc[studentsFailed]"
   ]
  },
  {
   "cell_type": "code",
   "execution_count": 213,
   "metadata": {},
   "outputs": [
    {
     "name": "stdout",
     "output_type": "stream",
     "text": [
      "<class 'pandas.core.frame.DataFrame'>\n",
      "Int64Index: 4527 entries, 256 to 623\n",
      "Data columns (total 11 columns):\n",
      "status                   4527 non-null object\n",
      "join_date                4527 non-null datetime64[ns]\n",
      "cancel_date              1560 non-null datetime64[ns]\n",
      "days_to_cancel           1560 non-null float64\n",
      "is_udacity               4527 non-null bool\n",
      "is_canceled              4527 non-null bool\n",
      "utc_date                 4527 non-null datetime64[ns]\n",
      "num_courses_visited      4527 non-null uint8\n",
      "total_minutes_visited    4527 non-null float64\n",
      "lessons_completed        4527 non-null uint8\n",
      "projects_completed       4527 non-null uint8\n",
      "dtypes: bool(2), datetime64[ns](3), float64(2), object(1), uint8(3)\n",
      "memory usage: 269.7+ KB\n"
     ]
    }
   ],
   "source": [
    "passingStudentsEngagement.info()"
   ]
  },
  {
   "cell_type": "code",
   "execution_count": 214,
   "metadata": {},
   "outputs": [
    {
     "name": "stdout",
     "output_type": "stream",
     "text": [
      "<class 'pandas.core.frame.DataFrame'>\n",
      "Int64Index: 2392 entries, 653 to 1305\n",
      "Data columns (total 11 columns):\n",
      "status                   2392 non-null object\n",
      "join_date                2392 non-null datetime64[ns]\n",
      "cancel_date              1554 non-null datetime64[ns]\n",
      "days_to_cancel           1554 non-null float64\n",
      "is_udacity               2392 non-null bool\n",
      "is_canceled              2392 non-null bool\n",
      "utc_date                 2392 non-null datetime64[ns]\n",
      "num_courses_visited      2392 non-null uint8\n",
      "total_minutes_visited    2392 non-null float64\n",
      "lessons_completed        2392 non-null uint8\n",
      "projects_completed       2392 non-null uint8\n",
      "dtypes: bool(2), datetime64[ns](3), float64(2), object(1), uint8(3)\n",
      "memory usage: 142.5+ KB\n"
     ]
    }
   ],
   "source": [
    "failingStudentsEngagement.info()"
   ]
  },
  {
   "cell_type": "code",
   "execution_count": 215,
   "metadata": {},
   "outputs": [
    {
     "data": {
      "text/html": [
       "<div>\n",
       "<style>\n",
       "    .dataframe thead tr:only-child th {\n",
       "        text-align: right;\n",
       "    }\n",
       "\n",
       "    .dataframe thead th {\n",
       "        text-align: left;\n",
       "    }\n",
       "\n",
       "    .dataframe tbody tr th {\n",
       "        vertical-align: top;\n",
       "    }\n",
       "</style>\n",
       "<table border=\"1\" class=\"dataframe\">\n",
       "  <thead>\n",
       "    <tr style=\"text-align: right;\">\n",
       "      <th></th>\n",
       "      <th>status</th>\n",
       "      <th>join_date</th>\n",
       "      <th>cancel_date</th>\n",
       "      <th>days_to_cancel</th>\n",
       "      <th>is_udacity</th>\n",
       "      <th>is_canceled</th>\n",
       "      <th>utc_date</th>\n",
       "      <th>num_courses_visited</th>\n",
       "      <th>total_minutes_visited</th>\n",
       "      <th>lessons_completed</th>\n",
       "      <th>projects_completed</th>\n",
       "    </tr>\n",
       "    <tr>\n",
       "      <th>account_key</th>\n",
       "      <th></th>\n",
       "      <th></th>\n",
       "      <th></th>\n",
       "      <th></th>\n",
       "      <th></th>\n",
       "      <th></th>\n",
       "      <th></th>\n",
       "      <th></th>\n",
       "      <th></th>\n",
       "      <th></th>\n",
       "      <th></th>\n",
       "    </tr>\n",
       "  </thead>\n",
       "  <tbody>\n",
       "    <tr>\n",
       "      <th>256</th>\n",
       "      <td>canceled</td>\n",
       "      <td>2015-04-01</td>\n",
       "      <td>2015-06-10</td>\n",
       "      <td>70.0</td>\n",
       "      <td>False</td>\n",
       "      <td>True</td>\n",
       "      <td>2015-04-01</td>\n",
       "      <td>0</td>\n",
       "      <td>0.0</td>\n",
       "      <td>0</td>\n",
       "      <td>0</td>\n",
       "    </tr>\n",
       "    <tr>\n",
       "      <th>256</th>\n",
       "      <td>canceled</td>\n",
       "      <td>2015-04-01</td>\n",
       "      <td>2015-06-10</td>\n",
       "      <td>70.0</td>\n",
       "      <td>False</td>\n",
       "      <td>True</td>\n",
       "      <td>2015-04-02</td>\n",
       "      <td>0</td>\n",
       "      <td>0.0</td>\n",
       "      <td>0</td>\n",
       "      <td>0</td>\n",
       "    </tr>\n",
       "    <tr>\n",
       "      <th>256</th>\n",
       "      <td>canceled</td>\n",
       "      <td>2015-04-01</td>\n",
       "      <td>2015-06-10</td>\n",
       "      <td>70.0</td>\n",
       "      <td>False</td>\n",
       "      <td>True</td>\n",
       "      <td>2015-04-03</td>\n",
       "      <td>0</td>\n",
       "      <td>0.0</td>\n",
       "      <td>0</td>\n",
       "      <td>0</td>\n",
       "    </tr>\n",
       "    <tr>\n",
       "      <th>256</th>\n",
       "      <td>canceled</td>\n",
       "      <td>2015-04-01</td>\n",
       "      <td>2015-06-10</td>\n",
       "      <td>70.0</td>\n",
       "      <td>False</td>\n",
       "      <td>True</td>\n",
       "      <td>2015-04-04</td>\n",
       "      <td>0</td>\n",
       "      <td>0.0</td>\n",
       "      <td>0</td>\n",
       "      <td>0</td>\n",
       "    </tr>\n",
       "    <tr>\n",
       "      <th>256</th>\n",
       "      <td>canceled</td>\n",
       "      <td>2015-04-01</td>\n",
       "      <td>2015-06-10</td>\n",
       "      <td>70.0</td>\n",
       "      <td>False</td>\n",
       "      <td>True</td>\n",
       "      <td>2015-04-05</td>\n",
       "      <td>0</td>\n",
       "      <td>0.0</td>\n",
       "      <td>0</td>\n",
       "      <td>0</td>\n",
       "    </tr>\n",
       "  </tbody>\n",
       "</table>\n",
       "</div>"
      ],
      "text/plain": [
       "               status  join_date cancel_date  days_to_cancel  is_udacity  \\\n",
       "account_key                                                                \n",
       "256          canceled 2015-04-01  2015-06-10            70.0       False   \n",
       "256          canceled 2015-04-01  2015-06-10            70.0       False   \n",
       "256          canceled 2015-04-01  2015-06-10            70.0       False   \n",
       "256          canceled 2015-04-01  2015-06-10            70.0       False   \n",
       "256          canceled 2015-04-01  2015-06-10            70.0       False   \n",
       "\n",
       "             is_canceled   utc_date  num_courses_visited  \\\n",
       "account_key                                                \n",
       "256                 True 2015-04-01                    0   \n",
       "256                 True 2015-04-02                    0   \n",
       "256                 True 2015-04-03                    0   \n",
       "256                 True 2015-04-04                    0   \n",
       "256                 True 2015-04-05                    0   \n",
       "\n",
       "             total_minutes_visited  lessons_completed  projects_completed  \n",
       "account_key                                                                \n",
       "256                            0.0                  0                   0  \n",
       "256                            0.0                  0                   0  \n",
       "256                            0.0                  0                   0  \n",
       "256                            0.0                  0                   0  \n",
       "256                            0.0                  0                   0  "
      ]
     },
     "execution_count": 215,
     "metadata": {},
     "output_type": "execute_result"
    }
   ],
   "source": [
    "passingStudentsEngagement.head()"
   ]
  },
  {
   "cell_type": "code",
   "execution_count": 216,
   "metadata": {},
   "outputs": [
    {
     "data": {
      "text/html": [
       "<div>\n",
       "<style>\n",
       "    .dataframe thead tr:only-child th {\n",
       "        text-align: right;\n",
       "    }\n",
       "\n",
       "    .dataframe thead th {\n",
       "        text-align: left;\n",
       "    }\n",
       "\n",
       "    .dataframe tbody tr th {\n",
       "        vertical-align: top;\n",
       "    }\n",
       "</style>\n",
       "<table border=\"1\" class=\"dataframe\">\n",
       "  <thead>\n",
       "    <tr style=\"text-align: right;\">\n",
       "      <th></th>\n",
       "      <th>status</th>\n",
       "      <th>join_date</th>\n",
       "      <th>cancel_date</th>\n",
       "      <th>days_to_cancel</th>\n",
       "      <th>is_udacity</th>\n",
       "      <th>is_canceled</th>\n",
       "      <th>utc_date</th>\n",
       "      <th>num_courses_visited</th>\n",
       "      <th>total_minutes_visited</th>\n",
       "      <th>lessons_completed</th>\n",
       "      <th>projects_completed</th>\n",
       "    </tr>\n",
       "    <tr>\n",
       "      <th>account_key</th>\n",
       "      <th></th>\n",
       "      <th></th>\n",
       "      <th></th>\n",
       "      <th></th>\n",
       "      <th></th>\n",
       "      <th></th>\n",
       "      <th></th>\n",
       "      <th></th>\n",
       "      <th></th>\n",
       "      <th></th>\n",
       "      <th></th>\n",
       "    </tr>\n",
       "  </thead>\n",
       "  <tbody>\n",
       "    <tr>\n",
       "      <th>653</th>\n",
       "      <td>current</td>\n",
       "      <td>2015-07-08</td>\n",
       "      <td>NaT</td>\n",
       "      <td>NaN</td>\n",
       "      <td>False</td>\n",
       "      <td>False</td>\n",
       "      <td>2015-07-08</td>\n",
       "      <td>0</td>\n",
       "      <td>0.000000</td>\n",
       "      <td>0</td>\n",
       "      <td>0</td>\n",
       "    </tr>\n",
       "    <tr>\n",
       "      <th>653</th>\n",
       "      <td>current</td>\n",
       "      <td>2015-07-08</td>\n",
       "      <td>NaT</td>\n",
       "      <td>NaN</td>\n",
       "      <td>False</td>\n",
       "      <td>False</td>\n",
       "      <td>2015-07-09</td>\n",
       "      <td>4</td>\n",
       "      <td>179.408486</td>\n",
       "      <td>2</td>\n",
       "      <td>0</td>\n",
       "    </tr>\n",
       "    <tr>\n",
       "      <th>653</th>\n",
       "      <td>current</td>\n",
       "      <td>2015-07-08</td>\n",
       "      <td>NaT</td>\n",
       "      <td>NaN</td>\n",
       "      <td>False</td>\n",
       "      <td>False</td>\n",
       "      <td>2015-07-10</td>\n",
       "      <td>0</td>\n",
       "      <td>0.000000</td>\n",
       "      <td>0</td>\n",
       "      <td>0</td>\n",
       "    </tr>\n",
       "    <tr>\n",
       "      <th>653</th>\n",
       "      <td>current</td>\n",
       "      <td>2015-07-08</td>\n",
       "      <td>NaT</td>\n",
       "      <td>NaN</td>\n",
       "      <td>False</td>\n",
       "      <td>False</td>\n",
       "      <td>2015-07-11</td>\n",
       "      <td>4</td>\n",
       "      <td>334.538297</td>\n",
       "      <td>2</td>\n",
       "      <td>0</td>\n",
       "    </tr>\n",
       "    <tr>\n",
       "      <th>653</th>\n",
       "      <td>current</td>\n",
       "      <td>2015-07-08</td>\n",
       "      <td>NaT</td>\n",
       "      <td>NaN</td>\n",
       "      <td>False</td>\n",
       "      <td>False</td>\n",
       "      <td>2015-07-12</td>\n",
       "      <td>1</td>\n",
       "      <td>28.581730</td>\n",
       "      <td>0</td>\n",
       "      <td>0</td>\n",
       "    </tr>\n",
       "  </tbody>\n",
       "</table>\n",
       "</div>"
      ],
      "text/plain": [
       "              status  join_date cancel_date  days_to_cancel  is_udacity  \\\n",
       "account_key                                                               \n",
       "653          current 2015-07-08         NaT             NaN       False   \n",
       "653          current 2015-07-08         NaT             NaN       False   \n",
       "653          current 2015-07-08         NaT             NaN       False   \n",
       "653          current 2015-07-08         NaT             NaN       False   \n",
       "653          current 2015-07-08         NaT             NaN       False   \n",
       "\n",
       "             is_canceled   utc_date  num_courses_visited  \\\n",
       "account_key                                                \n",
       "653                False 2015-07-08                    0   \n",
       "653                False 2015-07-09                    4   \n",
       "653                False 2015-07-10                    0   \n",
       "653                False 2015-07-11                    4   \n",
       "653                False 2015-07-12                    1   \n",
       "\n",
       "             total_minutes_visited  lessons_completed  projects_completed  \n",
       "account_key                                                                \n",
       "653                       0.000000                  0                   0  \n",
       "653                     179.408486                  2                   0  \n",
       "653                       0.000000                  0                   0  \n",
       "653                     334.538297                  2                   0  \n",
       "653                      28.581730                  0                   0  "
      ]
     },
     "execution_count": 216,
     "metadata": {},
     "output_type": "execute_result"
    }
   ],
   "source": [
    "failingStudentsEngagement.head()"
   ]
  },
  {
   "cell_type": "code",
   "execution_count": 217,
   "metadata": {
    "collapsed": true
   },
   "outputs": [],
   "source": [
    "#Some stats\n",
    "passingStudentsMinutesSpent = passingStudentsEngagement.groupby(\"account_key\")[\"total_minutes_visited\"].sum()\n",
    "failingStudentsMinutesSpent = failingStudentsEngagement.groupby(\"account_key\")[\"total_minutes_visited\"].sum()"
   ]
  },
  {
   "cell_type": "code",
   "execution_count": 218,
   "metadata": {},
   "outputs": [
    {
     "data": {
      "text/plain": [
       "account_key\n",
       "0    494.880496\n",
       "1     18.576385\n",
       "2      0.000000\n",
       "3      0.000000\n",
       "4     33.321405\n",
       "Name: total_minutes_visited, dtype: float64"
      ]
     },
     "execution_count": 218,
     "metadata": {},
     "output_type": "execute_result"
    }
   ],
   "source": [
    "passingStudentsMinutesSpent.head()"
   ]
  },
  {
   "cell_type": "code",
   "execution_count": 219,
   "metadata": {},
   "outputs": [
    {
     "data": {
      "text/plain": [
       "account_key\n",
       "653    736.437165\n",
       "655    177.836749\n",
       "656      0.000000\n",
       "657      0.000000\n",
       "660    193.848226\n",
       "Name: total_minutes_visited, dtype: float64"
      ]
     },
     "execution_count": 219,
     "metadata": {},
     "output_type": "execute_result"
    }
   ],
   "source": [
    "failingStudentsMinutesSpent.head()"
   ]
  },
  {
   "cell_type": "code",
   "execution_count": 220,
   "metadata": {},
   "outputs": [
    {
     "name": "stdout",
     "output_type": "stream",
     "text": [
      "394.586046483509\n",
      "143.3264742667559\n",
      "3564.7332645\n",
      "1768.52274933\n"
     ]
    }
   ],
   "source": [
    "#Some stats\n",
    "print(np.mean(passingStudentsMinutesSpent))\n",
    "print(np.mean(failingStudentsMinutesSpent))\n",
    "print(np.max(passingStudentsMinutesSpent))\n",
    "print(np.max(failingStudentsMinutesSpent))"
   ]
  },
  {
   "cell_type": "code",
   "execution_count": 233,
   "metadata": {},
   "outputs": [
    {
     "data": {
      "image/png": "[encoded data removed]",
      "text/plain": [
       "<matplotlib.figure.Figure at 0x113e02a20>"
      ]
     },
     "metadata": {},
     "output_type": "display_data"
    }
   ],
   "source": [
    "#Plot some graphs\n",
    "bins = np.linspace(0, 3600, 30)\n",
    "plt.hist(x=passingStudentsMinutesSpent, bins=bins, alpha = 0.5)\n",
    "plt.hist(x=failingStudentsMinutesSpent, bins=bins, alpha = 0.5)\n",
    "plt.show()"
   ]
  }
 ],
 "metadata": {
  "kernelspec": {
   "display_name": "Python 3",
   "language": "python",
   "name": "python3"
  },
  "language_info": {
   "codemirror_mode": {
    "name": "ipython",
    "version": 3
   },
   "file_extension": ".py",
   "mimetype": "text/x-python",
   "name": "python",
   "nbconvert_exporter": "python",
   "pygments_lexer": "ipython3",
   "version": "3.6.3"
  }
 },
 "nbformat": 4,
 "nbformat_minor": 2
}
