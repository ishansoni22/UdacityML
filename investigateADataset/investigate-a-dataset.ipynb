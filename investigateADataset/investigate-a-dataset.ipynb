{
 "cells": [
  {
   "cell_type": "markdown",
   "metadata": {},
   "source": [
    "# Project: Investigate a Dataset (TMDb movie data Analysis!)\n",
    "\n",
    "> ## Table of Contents\n",
    "<ul>\n",
    "<li><a href=\"#intro\">Introduction</a></li>\n",
    "<li><a href=\"#wrangling\">Data Wrangling</a></li>\n",
    "<li><a href=\"#eda\">Exploratory Data Analysis</a></li>\n",
    "<li><a href=\"#conclusions\">Conclusions</a></li>\n",
    "</ul>"
   ]
  },
  {
   "cell_type": "markdown",
   "metadata": {},
   "source": [
    "<a id='intro'></a>\n",
    "## Introduction"
   ]
  },
  {
   "cell_type": "markdown",
   "metadata": {},
   "source": [
    "> I have selected the <b>TMdb movies dataset</b>. This data set contains information about 10,000 movies collected from The Movie Database (TMDb), including user ratings and revenue. The dataset is saved in a file called \"tmdb-movies.csv\" uploaded along with this jupyter notebook."
   ]
  },
  {
   "cell_type": "code",
   "execution_count": 68,
   "metadata": {
    "collapsed": true
   },
   "outputs": [],
   "source": [
    "# Use this cell to set up import statements for all of the packages that you\n",
    "#   plan to use.\n",
    "\n",
    "# Remember to include a 'magic word' so that your visualizations are plotted\n",
    "#   inline with the notebook. See this page for more:\n",
    "#   http://ipython.readthedocs.io/en/stable/interactive/magics.html\n",
    "\n",
    "#Organize imports\n",
    "import numpy as np\n",
    "import pandas as pd\n",
    "from scipy import stats\n",
    "import seaborn as sns\n",
    "import matplotlib.pyplot as plt\n",
    "%matplotlib inline\n"
   ]
  },
  {
   "cell_type": "code",
   "execution_count": 69,
   "metadata": {},
   "outputs": [
    {
     "data": {
      "text/html": [
       "<div>\n",
       "<style>\n",
       "    .dataframe thead tr:only-child th {\n",
       "        text-align: right;\n",
       "    }\n",
       "\n",
       "    .dataframe thead th {\n",
       "        text-align: left;\n",
       "    }\n",
       "\n",
       "    .dataframe tbody tr th {\n",
       "        vertical-align: top;\n",
       "    }\n",
       "</style>\n",
       "<table border=\"1\" class=\"dataframe\">\n",
       "  <thead>\n",
       "    <tr style=\"text-align: right;\">\n",
       "      <th></th>\n",
       "      <th>imdb_id</th>\n",
       "      <th>popularity</th>\n",
       "      <th>budget</th>\n",
       "      <th>revenue</th>\n",
       "      <th>original_title</th>\n",
       "      <th>cast</th>\n",
       "      <th>homepage</th>\n",
       "      <th>director</th>\n",
       "      <th>tagline</th>\n",
       "      <th>keywords</th>\n",
       "      <th>overview</th>\n",
       "      <th>runtime</th>\n",
       "      <th>genres</th>\n",
       "      <th>production_companies</th>\n",
       "      <th>release_date</th>\n",
       "      <th>vote_count</th>\n",
       "      <th>vote_average</th>\n",
       "      <th>release_year</th>\n",
       "      <th>budget_adj</th>\n",
       "      <th>revenue_adj</th>\n",
       "    </tr>\n",
       "    <tr>\n",
       "      <th>id</th>\n",
       "      <th></th>\n",
       "      <th></th>\n",
       "      <th></th>\n",
       "      <th></th>\n",
       "      <th></th>\n",
       "      <th></th>\n",
       "      <th></th>\n",
       "      <th></th>\n",
       "      <th></th>\n",
       "      <th></th>\n",
       "      <th></th>\n",
       "      <th></th>\n",
       "      <th></th>\n",
       "      <th></th>\n",
       "      <th></th>\n",
       "      <th></th>\n",
       "      <th></th>\n",
       "      <th></th>\n",
       "      <th></th>\n",
       "      <th></th>\n",
       "    </tr>\n",
       "  </thead>\n",
       "  <tbody>\n",
       "    <tr>\n",
       "      <th>135397</th>\n",
       "      <td>tt0369610</td>\n",
       "      <td>32.985763</td>\n",
       "      <td>150000000</td>\n",
       "      <td>1513528810</td>\n",
       "      <td>Jurassic World</td>\n",
       "      <td>Chris Pratt|Bryce Dallas Howard|Irrfan Khan|Vi...</td>\n",
       "      <td>http://www.jurassicworld.com/</td>\n",
       "      <td>Colin Trevorrow</td>\n",
       "      <td>The park is open.</td>\n",
       "      <td>monster|dna|tyrannosaurus rex|velociraptor|island</td>\n",
       "      <td>Twenty-two years after the events of Jurassic ...</td>\n",
       "      <td>124</td>\n",
       "      <td>Action|Adventure|Science Fiction|Thriller</td>\n",
       "      <td>Universal Studios|Amblin Entertainment|Legenda...</td>\n",
       "      <td>6/9/15</td>\n",
       "      <td>5562</td>\n",
       "      <td>6.5</td>\n",
       "      <td>2015</td>\n",
       "      <td>1.379999e+08</td>\n",
       "      <td>1.392446e+09</td>\n",
       "    </tr>\n",
       "    <tr>\n",
       "      <th>76341</th>\n",
       "      <td>tt1392190</td>\n",
       "      <td>28.419936</td>\n",
       "      <td>150000000</td>\n",
       "      <td>378436354</td>\n",
       "      <td>Mad Max: Fury Road</td>\n",
       "      <td>Tom Hardy|Charlize Theron|Hugh Keays-Byrne|Nic...</td>\n",
       "      <td>http://www.madmaxmovie.com/</td>\n",
       "      <td>George Miller</td>\n",
       "      <td>What a Lovely Day.</td>\n",
       "      <td>future|chase|post-apocalyptic|dystopia|australia</td>\n",
       "      <td>An apocalyptic story set in the furthest reach...</td>\n",
       "      <td>120</td>\n",
       "      <td>Action|Adventure|Science Fiction|Thriller</td>\n",
       "      <td>Village Roadshow Pictures|Kennedy Miller Produ...</td>\n",
       "      <td>5/13/15</td>\n",
       "      <td>6185</td>\n",
       "      <td>7.1</td>\n",
       "      <td>2015</td>\n",
       "      <td>1.379999e+08</td>\n",
       "      <td>3.481613e+08</td>\n",
       "    </tr>\n",
       "    <tr>\n",
       "      <th>262500</th>\n",
       "      <td>tt2908446</td>\n",
       "      <td>13.112507</td>\n",
       "      <td>110000000</td>\n",
       "      <td>295238201</td>\n",
       "      <td>Insurgent</td>\n",
       "      <td>Shailene Woodley|Theo James|Kate Winslet|Ansel...</td>\n",
       "      <td>http://www.thedivergentseries.movie/#insurgent</td>\n",
       "      <td>Robert Schwentke</td>\n",
       "      <td>One Choice Can Destroy You</td>\n",
       "      <td>based on novel|revolution|dystopia|sequel|dyst...</td>\n",
       "      <td>Beatrice Prior must confront her inner demons ...</td>\n",
       "      <td>119</td>\n",
       "      <td>Adventure|Science Fiction|Thriller</td>\n",
       "      <td>Summit Entertainment|Mandeville Films|Red Wago...</td>\n",
       "      <td>3/18/15</td>\n",
       "      <td>2480</td>\n",
       "      <td>6.3</td>\n",
       "      <td>2015</td>\n",
       "      <td>1.012000e+08</td>\n",
       "      <td>2.716190e+08</td>\n",
       "    </tr>\n",
       "    <tr>\n",
       "      <th>140607</th>\n",
       "      <td>tt2488496</td>\n",
       "      <td>11.173104</td>\n",
       "      <td>200000000</td>\n",
       "      <td>2068178225</td>\n",
       "      <td>Star Wars: The Force Awakens</td>\n",
       "      <td>Harrison Ford|Mark Hamill|Carrie Fisher|Adam D...</td>\n",
       "      <td>http://www.starwars.com/films/star-wars-episod...</td>\n",
       "      <td>J.J. Abrams</td>\n",
       "      <td>Every generation has a story.</td>\n",
       "      <td>android|spaceship|jedi|space opera|3d</td>\n",
       "      <td>Thirty years after defeating the Galactic Empi...</td>\n",
       "      <td>136</td>\n",
       "      <td>Action|Adventure|Science Fiction|Fantasy</td>\n",
       "      <td>Lucasfilm|Truenorth Productions|Bad Robot</td>\n",
       "      <td>12/15/15</td>\n",
       "      <td>5292</td>\n",
       "      <td>7.5</td>\n",
       "      <td>2015</td>\n",
       "      <td>1.839999e+08</td>\n",
       "      <td>1.902723e+09</td>\n",
       "    </tr>\n",
       "    <tr>\n",
       "      <th>168259</th>\n",
       "      <td>tt2820852</td>\n",
       "      <td>9.335014</td>\n",
       "      <td>190000000</td>\n",
       "      <td>1506249360</td>\n",
       "      <td>Furious 7</td>\n",
       "      <td>Vin Diesel|Paul Walker|Jason Statham|Michelle ...</td>\n",
       "      <td>http://www.furious7.com/</td>\n",
       "      <td>James Wan</td>\n",
       "      <td>Vengeance Hits Home</td>\n",
       "      <td>car race|speed|revenge|suspense|car</td>\n",
       "      <td>Deckard Shaw seeks revenge against Dominic Tor...</td>\n",
       "      <td>137</td>\n",
       "      <td>Action|Crime|Thriller</td>\n",
       "      <td>Universal Pictures|Original Film|Media Rights ...</td>\n",
       "      <td>4/1/15</td>\n",
       "      <td>2947</td>\n",
       "      <td>7.3</td>\n",
       "      <td>2015</td>\n",
       "      <td>1.747999e+08</td>\n",
       "      <td>1.385749e+09</td>\n",
       "    </tr>\n",
       "  </tbody>\n",
       "</table>\n",
       "</div>"
      ],
      "text/plain": [
       "          imdb_id  popularity     budget     revenue  \\\n",
       "id                                                     \n",
       "135397  tt0369610   32.985763  150000000  1513528810   \n",
       "76341   tt1392190   28.419936  150000000   378436354   \n",
       "262500  tt2908446   13.112507  110000000   295238201   \n",
       "140607  tt2488496   11.173104  200000000  2068178225   \n",
       "168259  tt2820852    9.335014  190000000  1506249360   \n",
       "\n",
       "                      original_title  \\\n",
       "id                                     \n",
       "135397                Jurassic World   \n",
       "76341             Mad Max: Fury Road   \n",
       "262500                     Insurgent   \n",
       "140607  Star Wars: The Force Awakens   \n",
       "168259                     Furious 7   \n",
       "\n",
       "                                                     cast  \\\n",
       "id                                                          \n",
       "135397  Chris Pratt|Bryce Dallas Howard|Irrfan Khan|Vi...   \n",
       "76341   Tom Hardy|Charlize Theron|Hugh Keays-Byrne|Nic...   \n",
       "262500  Shailene Woodley|Theo James|Kate Winslet|Ansel...   \n",
       "140607  Harrison Ford|Mark Hamill|Carrie Fisher|Adam D...   \n",
       "168259  Vin Diesel|Paul Walker|Jason Statham|Michelle ...   \n",
       "\n",
       "                                                 homepage          director  \\\n",
       "id                                                                            \n",
       "135397                      http://www.jurassicworld.com/   Colin Trevorrow   \n",
       "76341                         http://www.madmaxmovie.com/     George Miller   \n",
       "262500     http://www.thedivergentseries.movie/#insurgent  Robert Schwentke   \n",
       "140607  http://www.starwars.com/films/star-wars-episod...       J.J. Abrams   \n",
       "168259                           http://www.furious7.com/         James Wan   \n",
       "\n",
       "                              tagline  \\\n",
       "id                                      \n",
       "135397              The park is open.   \n",
       "76341              What a Lovely Day.   \n",
       "262500     One Choice Can Destroy You   \n",
       "140607  Every generation has a story.   \n",
       "168259            Vengeance Hits Home   \n",
       "\n",
       "                                                 keywords  \\\n",
       "id                                                          \n",
       "135397  monster|dna|tyrannosaurus rex|velociraptor|island   \n",
       "76341    future|chase|post-apocalyptic|dystopia|australia   \n",
       "262500  based on novel|revolution|dystopia|sequel|dyst...   \n",
       "140607              android|spaceship|jedi|space opera|3d   \n",
       "168259                car race|speed|revenge|suspense|car   \n",
       "\n",
       "                                                 overview  runtime  \\\n",
       "id                                                                   \n",
       "135397  Twenty-two years after the events of Jurassic ...      124   \n",
       "76341   An apocalyptic story set in the furthest reach...      120   \n",
       "262500  Beatrice Prior must confront her inner demons ...      119   \n",
       "140607  Thirty years after defeating the Galactic Empi...      136   \n",
       "168259  Deckard Shaw seeks revenge against Dominic Tor...      137   \n",
       "\n",
       "                                           genres  \\\n",
       "id                                                  \n",
       "135397  Action|Adventure|Science Fiction|Thriller   \n",
       "76341   Action|Adventure|Science Fiction|Thriller   \n",
       "262500         Adventure|Science Fiction|Thriller   \n",
       "140607   Action|Adventure|Science Fiction|Fantasy   \n",
       "168259                      Action|Crime|Thriller   \n",
       "\n",
       "                                     production_companies release_date  \\\n",
       "id                                                                       \n",
       "135397  Universal Studios|Amblin Entertainment|Legenda...       6/9/15   \n",
       "76341   Village Roadshow Pictures|Kennedy Miller Produ...      5/13/15   \n",
       "262500  Summit Entertainment|Mandeville Films|Red Wago...      3/18/15   \n",
       "140607          Lucasfilm|Truenorth Productions|Bad Robot     12/15/15   \n",
       "168259  Universal Pictures|Original Film|Media Rights ...       4/1/15   \n",
       "\n",
       "        vote_count  vote_average  release_year    budget_adj   revenue_adj  \n",
       "id                                                                          \n",
       "135397        5562           6.5          2015  1.379999e+08  1.392446e+09  \n",
       "76341         6185           7.1          2015  1.379999e+08  3.481613e+08  \n",
       "262500        2480           6.3          2015  1.012000e+08  2.716190e+08  \n",
       "140607        5292           7.5          2015  1.839999e+08  1.902723e+09  \n",
       "168259        2947           7.3          2015  1.747999e+08  1.385749e+09  "
      ]
     },
     "execution_count": 69,
     "metadata": {},
     "output_type": "execute_result"
    }
   ],
   "source": [
    "# Import the dataset\n",
    "# moviesRaw = pd.read_csv(\"tmdb-movies.csv\")\n",
    "# Have a peek at the dataset\n",
    "# moviesRaw.head()\n",
    "# Wouldnt it be better to have id as the index?\n",
    "moviesRaw  = pd.read_csv(\"tmdb-movies.csv\", index_col=\"id\")\n",
    "moviesRaw.head()"
   ]
  },
  {
   "cell_type": "markdown",
   "metadata": {},
   "source": [
    "> As we can see the dataset contains a lot of info such as popularity, revenue, cast, director, runtime, genre etc.\n"
   ]
  },
  {
   "cell_type": "markdown",
   "metadata": {},
   "source": [
    "> ### <font color = 'blue'>Questions I would like to answer after seeing the dataset?</font>\n",
    "    1. What is vote_average year to year? Are movies getting better/ worse?\n",
    "    2. Which genres are most popular from year to year?\n",
    "    3. Which genres are the most popular/ highest grossing(revenue)/ High budget genres/ Receive high vote_average?\n",
    "    4. Is there a specific time when majority of the movies are released?\n",
    "    5. Actors that have the maximum movies ?\n",
    "    6. Production Houses that have the maximum movies vs Production Houses that drive the most revenue."
   ]
  },
  {
   "cell_type": "markdown",
   "metadata": {},
   "source": [
    "<a id='wrangling'></a>\n",
    "## Data Wrangling\n",
    "\n",
    "\n",
    "### General Properties"
   ]
  },
  {
   "cell_type": "code",
   "execution_count": 70,
   "metadata": {},
   "outputs": [
    {
     "name": "stdout",
     "output_type": "stream",
     "text": [
      "<class 'pandas.core.frame.DataFrame'>\n",
      "Int64Index: 10866 entries, 135397 to 22293\n",
      "Data columns (total 20 columns):\n",
      "imdb_id                 10856 non-null object\n",
      "popularity              10866 non-null float64\n",
      "budget                  10866 non-null int64\n",
      "revenue                 10866 non-null int64\n",
      "original_title          10866 non-null object\n",
      "cast                    10790 non-null object\n",
      "homepage                2936 non-null object\n",
      "director                10822 non-null object\n",
      "tagline                 8042 non-null object\n",
      "keywords                9373 non-null object\n",
      "overview                10862 non-null object\n",
      "runtime                 10866 non-null int64\n",
      "genres                  10843 non-null object\n",
      "production_companies    9836 non-null object\n",
      "release_date            10866 non-null object\n",
      "vote_count              10866 non-null int64\n",
      "vote_average            10866 non-null float64\n",
      "release_year            10866 non-null int64\n",
      "budget_adj              10866 non-null float64\n",
      "revenue_adj             10866 non-null float64\n",
      "dtypes: float64(4), int64(5), object(11)\n",
      "memory usage: 1.7+ MB\n"
     ]
    }
   ],
   "source": [
    "# Info about the data?\n",
    "moviesRaw.info()"
   ]
  },
  {
   "cell_type": "markdown",
   "metadata": {},
   "source": [
    "> The dataset consists of 10866 enteries. The Imdb_id has 10 missing enteries. We can ignore this column as we won't be doing any analysis over this id since its completely random and has no correlation with any of the other columns.\n",
    "The genre column also has a few missing enteries and is multi valued. We will ungroup the generes and will also have to do something about the missing enteries when we answer our question : Which genres are most popular from year to year?\n",
    "\n",
    "The release_date column has an object datatype. We will convert this into a datetime series.\n",
    "\n",
    "### Data Cleaning "
   ]
  },
  {
   "cell_type": "markdown",
   "metadata": {},
   "source": [
    "> Lets start by removing some of the columns that we won't need and making our dataset thinner.\n",
    "Remove the imbd_id, original_title, tagline, keywords, overview, budget_adj, revenue_adj"
   ]
  },
  {
   "cell_type": "code",
   "execution_count": 71,
   "metadata": {},
   "outputs": [
    {
     "data": {
      "text/html": [
       "<div>\n",
       "<style>\n",
       "    .dataframe thead tr:only-child th {\n",
       "        text-align: right;\n",
       "    }\n",
       "\n",
       "    .dataframe thead th {\n",
       "        text-align: left;\n",
       "    }\n",
       "\n",
       "    .dataframe tbody tr th {\n",
       "        vertical-align: top;\n",
       "    }\n",
       "</style>\n",
       "<table border=\"1\" class=\"dataframe\">\n",
       "  <thead>\n",
       "    <tr style=\"text-align: right;\">\n",
       "      <th></th>\n",
       "      <th>popularity</th>\n",
       "      <th>budget</th>\n",
       "      <th>revenue</th>\n",
       "      <th>cast</th>\n",
       "      <th>homepage</th>\n",
       "      <th>director</th>\n",
       "      <th>runtime</th>\n",
       "      <th>genres</th>\n",
       "      <th>production_companies</th>\n",
       "      <th>release_date</th>\n",
       "      <th>vote_count</th>\n",
       "      <th>vote_average</th>\n",
       "      <th>release_year</th>\n",
       "      <th>budget_adj</th>\n",
       "      <th>revenue_adj</th>\n",
       "    </tr>\n",
       "    <tr>\n",
       "      <th>id</th>\n",
       "      <th></th>\n",
       "      <th></th>\n",
       "      <th></th>\n",
       "      <th></th>\n",
       "      <th></th>\n",
       "      <th></th>\n",
       "      <th></th>\n",
       "      <th></th>\n",
       "      <th></th>\n",
       "      <th></th>\n",
       "      <th></th>\n",
       "      <th></th>\n",
       "      <th></th>\n",
       "      <th></th>\n",
       "      <th></th>\n",
       "    </tr>\n",
       "  </thead>\n",
       "  <tbody>\n",
       "    <tr>\n",
       "      <th>135397</th>\n",
       "      <td>32.985763</td>\n",
       "      <td>150000000</td>\n",
       "      <td>1513528810</td>\n",
       "      <td>Chris Pratt|Bryce Dallas Howard|Irrfan Khan|Vi...</td>\n",
       "      <td>http://www.jurassicworld.com/</td>\n",
       "      <td>Colin Trevorrow</td>\n",
       "      <td>124</td>\n",
       "      <td>Action|Adventure|Science Fiction|Thriller</td>\n",
       "      <td>Universal Studios|Amblin Entertainment|Legenda...</td>\n",
       "      <td>6/9/15</td>\n",
       "      <td>5562</td>\n",
       "      <td>6.5</td>\n",
       "      <td>2015</td>\n",
       "      <td>1.379999e+08</td>\n",
       "      <td>1.392446e+09</td>\n",
       "    </tr>\n",
       "    <tr>\n",
       "      <th>76341</th>\n",
       "      <td>28.419936</td>\n",
       "      <td>150000000</td>\n",
       "      <td>378436354</td>\n",
       "      <td>Tom Hardy|Charlize Theron|Hugh Keays-Byrne|Nic...</td>\n",
       "      <td>http://www.madmaxmovie.com/</td>\n",
       "      <td>George Miller</td>\n",
       "      <td>120</td>\n",
       "      <td>Action|Adventure|Science Fiction|Thriller</td>\n",
       "      <td>Village Roadshow Pictures|Kennedy Miller Produ...</td>\n",
       "      <td>5/13/15</td>\n",
       "      <td>6185</td>\n",
       "      <td>7.1</td>\n",
       "      <td>2015</td>\n",
       "      <td>1.379999e+08</td>\n",
       "      <td>3.481613e+08</td>\n",
       "    </tr>\n",
       "    <tr>\n",
       "      <th>262500</th>\n",
       "      <td>13.112507</td>\n",
       "      <td>110000000</td>\n",
       "      <td>295238201</td>\n",
       "      <td>Shailene Woodley|Theo James|Kate Winslet|Ansel...</td>\n",
       "      <td>http://www.thedivergentseries.movie/#insurgent</td>\n",
       "      <td>Robert Schwentke</td>\n",
       "      <td>119</td>\n",
       "      <td>Adventure|Science Fiction|Thriller</td>\n",
       "      <td>Summit Entertainment|Mandeville Films|Red Wago...</td>\n",
       "      <td>3/18/15</td>\n",
       "      <td>2480</td>\n",
       "      <td>6.3</td>\n",
       "      <td>2015</td>\n",
       "      <td>1.012000e+08</td>\n",
       "      <td>2.716190e+08</td>\n",
       "    </tr>\n",
       "    <tr>\n",
       "      <th>140607</th>\n",
       "      <td>11.173104</td>\n",
       "      <td>200000000</td>\n",
       "      <td>2068178225</td>\n",
       "      <td>Harrison Ford|Mark Hamill|Carrie Fisher|Adam D...</td>\n",
       "      <td>http://www.starwars.com/films/star-wars-episod...</td>\n",
       "      <td>J.J. Abrams</td>\n",
       "      <td>136</td>\n",
       "      <td>Action|Adventure|Science Fiction|Fantasy</td>\n",
       "      <td>Lucasfilm|Truenorth Productions|Bad Robot</td>\n",
       "      <td>12/15/15</td>\n",
       "      <td>5292</td>\n",
       "      <td>7.5</td>\n",
       "      <td>2015</td>\n",
       "      <td>1.839999e+08</td>\n",
       "      <td>1.902723e+09</td>\n",
       "    </tr>\n",
       "    <tr>\n",
       "      <th>168259</th>\n",
       "      <td>9.335014</td>\n",
       "      <td>190000000</td>\n",
       "      <td>1506249360</td>\n",
       "      <td>Vin Diesel|Paul Walker|Jason Statham|Michelle ...</td>\n",
       "      <td>http://www.furious7.com/</td>\n",
       "      <td>James Wan</td>\n",
       "      <td>137</td>\n",
       "      <td>Action|Crime|Thriller</td>\n",
       "      <td>Universal Pictures|Original Film|Media Rights ...</td>\n",
       "      <td>4/1/15</td>\n",
       "      <td>2947</td>\n",
       "      <td>7.3</td>\n",
       "      <td>2015</td>\n",
       "      <td>1.747999e+08</td>\n",
       "      <td>1.385749e+09</td>\n",
       "    </tr>\n",
       "  </tbody>\n",
       "</table>\n",
       "</div>"
      ],
      "text/plain": [
       "        popularity     budget     revenue  \\\n",
       "id                                          \n",
       "135397   32.985763  150000000  1513528810   \n",
       "76341    28.419936  150000000   378436354   \n",
       "262500   13.112507  110000000   295238201   \n",
       "140607   11.173104  200000000  2068178225   \n",
       "168259    9.335014  190000000  1506249360   \n",
       "\n",
       "                                                     cast  \\\n",
       "id                                                          \n",
       "135397  Chris Pratt|Bryce Dallas Howard|Irrfan Khan|Vi...   \n",
       "76341   Tom Hardy|Charlize Theron|Hugh Keays-Byrne|Nic...   \n",
       "262500  Shailene Woodley|Theo James|Kate Winslet|Ansel...   \n",
       "140607  Harrison Ford|Mark Hamill|Carrie Fisher|Adam D...   \n",
       "168259  Vin Diesel|Paul Walker|Jason Statham|Michelle ...   \n",
       "\n",
       "                                                 homepage          director  \\\n",
       "id                                                                            \n",
       "135397                      http://www.jurassicworld.com/   Colin Trevorrow   \n",
       "76341                         http://www.madmaxmovie.com/     George Miller   \n",
       "262500     http://www.thedivergentseries.movie/#insurgent  Robert Schwentke   \n",
       "140607  http://www.starwars.com/films/star-wars-episod...       J.J. Abrams   \n",
       "168259                           http://www.furious7.com/         James Wan   \n",
       "\n",
       "        runtime                                     genres  \\\n",
       "id                                                           \n",
       "135397      124  Action|Adventure|Science Fiction|Thriller   \n",
       "76341       120  Action|Adventure|Science Fiction|Thriller   \n",
       "262500      119         Adventure|Science Fiction|Thriller   \n",
       "140607      136   Action|Adventure|Science Fiction|Fantasy   \n",
       "168259      137                      Action|Crime|Thriller   \n",
       "\n",
       "                                     production_companies release_date  \\\n",
       "id                                                                       \n",
       "135397  Universal Studios|Amblin Entertainment|Legenda...       6/9/15   \n",
       "76341   Village Roadshow Pictures|Kennedy Miller Produ...      5/13/15   \n",
       "262500  Summit Entertainment|Mandeville Films|Red Wago...      3/18/15   \n",
       "140607          Lucasfilm|Truenorth Productions|Bad Robot     12/15/15   \n",
       "168259  Universal Pictures|Original Film|Media Rights ...       4/1/15   \n",
       "\n",
       "        vote_count  vote_average  release_year    budget_adj   revenue_adj  \n",
       "id                                                                          \n",
       "135397        5562           6.5          2015  1.379999e+08  1.392446e+09  \n",
       "76341         6185           7.1          2015  1.379999e+08  3.481613e+08  \n",
       "262500        2480           6.3          2015  1.012000e+08  2.716190e+08  \n",
       "140607        5292           7.5          2015  1.839999e+08  1.902723e+09  \n",
       "168259        2947           7.3          2015  1.747999e+08  1.385749e+09  "
      ]
     },
     "execution_count": 71,
     "metadata": {},
     "output_type": "execute_result"
    }
   ],
   "source": [
    "# We Should not drop columns like this before finding correlations with other columns. \n",
    "moviesRaw.drop([\"imdb_id\",\"original_title\",\"tagline\",\"keywords\",\"overview\"],axis=1,inplace=True)\n",
    "moviesRaw.head()\n",
    "# A peek at our more compact data set."
   ]
  },
  {
   "cell_type": "markdown",
   "metadata": {},
   "source": [
    "> Lets convert the release_year into a datetime series"
   ]
  },
  {
   "cell_type": "code",
   "execution_count": 72,
   "metadata": {
    "collapsed": true
   },
   "outputs": [],
   "source": [
    "def convertDateTime(row):\n",
    "    releaseDate = row[\"release_date\"]\n",
    "    last = releaseDate.rfind('/')\n",
    "    monthDay = releaseDate[:(last+1)]\n",
    "    year = row[\"release_year\"]\n",
    "    date = monthDay + str(year)\n",
    "    return date\n",
    "\n",
    "moviesRaw[\"release_date\"] = moviesRaw.apply(convertDateTime, axis=1)\n",
    "moviesRaw[\"release_date\"] = pd.to_datetime(moviesRaw[\"release_date\"], format=\"%m/%d/%Y\")"
   ]
  },
  {
   "cell_type": "code",
   "execution_count": 73,
   "metadata": {},
   "outputs": [
    {
     "data": {
      "text/html": [
       "<div>\n",
       "<style>\n",
       "    .dataframe thead tr:only-child th {\n",
       "        text-align: right;\n",
       "    }\n",
       "\n",
       "    .dataframe thead th {\n",
       "        text-align: left;\n",
       "    }\n",
       "\n",
       "    .dataframe tbody tr th {\n",
       "        vertical-align: top;\n",
       "    }\n",
       "</style>\n",
       "<table border=\"1\" class=\"dataframe\">\n",
       "  <thead>\n",
       "    <tr style=\"text-align: right;\">\n",
       "      <th></th>\n",
       "      <th>popularity</th>\n",
       "      <th>budget</th>\n",
       "      <th>revenue</th>\n",
       "      <th>cast</th>\n",
       "      <th>homepage</th>\n",
       "      <th>director</th>\n",
       "      <th>runtime</th>\n",
       "      <th>genres</th>\n",
       "      <th>production_companies</th>\n",
       "      <th>release_date</th>\n",
       "      <th>vote_count</th>\n",
       "      <th>vote_average</th>\n",
       "      <th>release_year</th>\n",
       "      <th>budget_adj</th>\n",
       "      <th>revenue_adj</th>\n",
       "    </tr>\n",
       "    <tr>\n",
       "      <th>id</th>\n",
       "      <th></th>\n",
       "      <th></th>\n",
       "      <th></th>\n",
       "      <th></th>\n",
       "      <th></th>\n",
       "      <th></th>\n",
       "      <th></th>\n",
       "      <th></th>\n",
       "      <th></th>\n",
       "      <th></th>\n",
       "      <th></th>\n",
       "      <th></th>\n",
       "      <th></th>\n",
       "      <th></th>\n",
       "      <th></th>\n",
       "    </tr>\n",
       "  </thead>\n",
       "  <tbody>\n",
       "    <tr>\n",
       "      <th>135397</th>\n",
       "      <td>32.985763</td>\n",
       "      <td>150000000</td>\n",
       "      <td>1513528810</td>\n",
       "      <td>Chris Pratt|Bryce Dallas Howard|Irrfan Khan|Vi...</td>\n",
       "      <td>http://www.jurassicworld.com/</td>\n",
       "      <td>Colin Trevorrow</td>\n",
       "      <td>124</td>\n",
       "      <td>Action|Adventure|Science Fiction|Thriller</td>\n",
       "      <td>Universal Studios|Amblin Entertainment|Legenda...</td>\n",
       "      <td>2015-06-09</td>\n",
       "      <td>5562</td>\n",
       "      <td>6.5</td>\n",
       "      <td>2015</td>\n",
       "      <td>1.379999e+08</td>\n",
       "      <td>1.392446e+09</td>\n",
       "    </tr>\n",
       "    <tr>\n",
       "      <th>76341</th>\n",
       "      <td>28.419936</td>\n",
       "      <td>150000000</td>\n",
       "      <td>378436354</td>\n",
       "      <td>Tom Hardy|Charlize Theron|Hugh Keays-Byrne|Nic...</td>\n",
       "      <td>http://www.madmaxmovie.com/</td>\n",
       "      <td>George Miller</td>\n",
       "      <td>120</td>\n",
       "      <td>Action|Adventure|Science Fiction|Thriller</td>\n",
       "      <td>Village Roadshow Pictures|Kennedy Miller Produ...</td>\n",
       "      <td>2015-05-13</td>\n",
       "      <td>6185</td>\n",
       "      <td>7.1</td>\n",
       "      <td>2015</td>\n",
       "      <td>1.379999e+08</td>\n",
       "      <td>3.481613e+08</td>\n",
       "    </tr>\n",
       "    <tr>\n",
       "      <th>262500</th>\n",
       "      <td>13.112507</td>\n",
       "      <td>110000000</td>\n",
       "      <td>295238201</td>\n",
       "      <td>Shailene Woodley|Theo James|Kate Winslet|Ansel...</td>\n",
       "      <td>http://www.thedivergentseries.movie/#insurgent</td>\n",
       "      <td>Robert Schwentke</td>\n",
       "      <td>119</td>\n",
       "      <td>Adventure|Science Fiction|Thriller</td>\n",
       "      <td>Summit Entertainment|Mandeville Films|Red Wago...</td>\n",
       "      <td>2015-03-18</td>\n",
       "      <td>2480</td>\n",
       "      <td>6.3</td>\n",
       "      <td>2015</td>\n",
       "      <td>1.012000e+08</td>\n",
       "      <td>2.716190e+08</td>\n",
       "    </tr>\n",
       "    <tr>\n",
       "      <th>140607</th>\n",
       "      <td>11.173104</td>\n",
       "      <td>200000000</td>\n",
       "      <td>2068178225</td>\n",
       "      <td>Harrison Ford|Mark Hamill|Carrie Fisher|Adam D...</td>\n",
       "      <td>http://www.starwars.com/films/star-wars-episod...</td>\n",
       "      <td>J.J. Abrams</td>\n",
       "      <td>136</td>\n",
       "      <td>Action|Adventure|Science Fiction|Fantasy</td>\n",
       "      <td>Lucasfilm|Truenorth Productions|Bad Robot</td>\n",
       "      <td>2015-12-15</td>\n",
       "      <td>5292</td>\n",
       "      <td>7.5</td>\n",
       "      <td>2015</td>\n",
       "      <td>1.839999e+08</td>\n",
       "      <td>1.902723e+09</td>\n",
       "    </tr>\n",
       "    <tr>\n",
       "      <th>168259</th>\n",
       "      <td>9.335014</td>\n",
       "      <td>190000000</td>\n",
       "      <td>1506249360</td>\n",
       "      <td>Vin Diesel|Paul Walker|Jason Statham|Michelle ...</td>\n",
       "      <td>http://www.furious7.com/</td>\n",
       "      <td>James Wan</td>\n",
       "      <td>137</td>\n",
       "      <td>Action|Crime|Thriller</td>\n",
       "      <td>Universal Pictures|Original Film|Media Rights ...</td>\n",
       "      <td>2015-04-01</td>\n",
       "      <td>2947</td>\n",
       "      <td>7.3</td>\n",
       "      <td>2015</td>\n",
       "      <td>1.747999e+08</td>\n",
       "      <td>1.385749e+09</td>\n",
       "    </tr>\n",
       "  </tbody>\n",
       "</table>\n",
       "</div>"
      ],
      "text/plain": [
       "        popularity     budget     revenue  \\\n",
       "id                                          \n",
       "135397   32.985763  150000000  1513528810   \n",
       "76341    28.419936  150000000   378436354   \n",
       "262500   13.112507  110000000   295238201   \n",
       "140607   11.173104  200000000  2068178225   \n",
       "168259    9.335014  190000000  1506249360   \n",
       "\n",
       "                                                     cast  \\\n",
       "id                                                          \n",
       "135397  Chris Pratt|Bryce Dallas Howard|Irrfan Khan|Vi...   \n",
       "76341   Tom Hardy|Charlize Theron|Hugh Keays-Byrne|Nic...   \n",
       "262500  Shailene Woodley|Theo James|Kate Winslet|Ansel...   \n",
       "140607  Harrison Ford|Mark Hamill|Carrie Fisher|Adam D...   \n",
       "168259  Vin Diesel|Paul Walker|Jason Statham|Michelle ...   \n",
       "\n",
       "                                                 homepage          director  \\\n",
       "id                                                                            \n",
       "135397                      http://www.jurassicworld.com/   Colin Trevorrow   \n",
       "76341                         http://www.madmaxmovie.com/     George Miller   \n",
       "262500     http://www.thedivergentseries.movie/#insurgent  Robert Schwentke   \n",
       "140607  http://www.starwars.com/films/star-wars-episod...       J.J. Abrams   \n",
       "168259                           http://www.furious7.com/         James Wan   \n",
       "\n",
       "        runtime                                     genres  \\\n",
       "id                                                           \n",
       "135397      124  Action|Adventure|Science Fiction|Thriller   \n",
       "76341       120  Action|Adventure|Science Fiction|Thriller   \n",
       "262500      119         Adventure|Science Fiction|Thriller   \n",
       "140607      136   Action|Adventure|Science Fiction|Fantasy   \n",
       "168259      137                      Action|Crime|Thriller   \n",
       "\n",
       "                                     production_companies release_date  \\\n",
       "id                                                                       \n",
       "135397  Universal Studios|Amblin Entertainment|Legenda...   2015-06-09   \n",
       "76341   Village Roadshow Pictures|Kennedy Miller Produ...   2015-05-13   \n",
       "262500  Summit Entertainment|Mandeville Films|Red Wago...   2015-03-18   \n",
       "140607          Lucasfilm|Truenorth Productions|Bad Robot   2015-12-15   \n",
       "168259  Universal Pictures|Original Film|Media Rights ...   2015-04-01   \n",
       "\n",
       "        vote_count  vote_average  release_year    budget_adj   revenue_adj  \n",
       "id                                                                          \n",
       "135397        5562           6.5          2015  1.379999e+08  1.392446e+09  \n",
       "76341         6185           7.1          2015  1.379999e+08  3.481613e+08  \n",
       "262500        2480           6.3          2015  1.012000e+08  2.716190e+08  \n",
       "140607        5292           7.5          2015  1.839999e+08  1.902723e+09  \n",
       "168259        2947           7.3          2015  1.747999e+08  1.385749e+09  "
      ]
     },
     "execution_count": 73,
     "metadata": {},
     "output_type": "execute_result"
    }
   ],
   "source": [
    "moviesRaw.head()"
   ]
  },
  {
   "cell_type": "markdown",
   "metadata": {},
   "source": [
    "> Lets create separate dataframes where we have multi valued columns "
   ]
  },
  {
   "cell_type": "markdown",
   "metadata": {},
   "source": [
    "<b>1. Split the generes into individual values.</b>"
   ]
  },
  {
   "cell_type": "code",
   "execution_count": 74,
   "metadata": {},
   "outputs": [
    {
     "data": {
      "text/html": [
       "<div>\n",
       "<style>\n",
       "    .dataframe thead tr:only-child th {\n",
       "        text-align: right;\n",
       "    }\n",
       "\n",
       "    .dataframe thead th {\n",
       "        text-align: left;\n",
       "    }\n",
       "\n",
       "    .dataframe tbody tr th {\n",
       "        vertical-align: top;\n",
       "    }\n",
       "</style>\n",
       "<table border=\"1\" class=\"dataframe\">\n",
       "  <thead>\n",
       "    <tr style=\"text-align: right;\">\n",
       "      <th></th>\n",
       "      <th>popularity</th>\n",
       "      <th>budget</th>\n",
       "      <th>revenue</th>\n",
       "      <th>budget_adj</th>\n",
       "      <th>revenue_adj</th>\n",
       "      <th>vote_count</th>\n",
       "      <th>vote_average</th>\n",
       "      <th>release_year</th>\n",
       "      <th>release_date</th>\n",
       "      <th>genre</th>\n",
       "    </tr>\n",
       "  </thead>\n",
       "  <tbody>\n",
       "    <tr>\n",
       "      <th>0</th>\n",
       "      <td>32.985763</td>\n",
       "      <td>150000000</td>\n",
       "      <td>1513528810</td>\n",
       "      <td>1.379999e+08</td>\n",
       "      <td>1.392446e+09</td>\n",
       "      <td>5562</td>\n",
       "      <td>6.5</td>\n",
       "      <td>2015</td>\n",
       "      <td>2015-06-09</td>\n",
       "      <td>Action</td>\n",
       "    </tr>\n",
       "    <tr>\n",
       "      <th>1</th>\n",
       "      <td>32.985763</td>\n",
       "      <td>150000000</td>\n",
       "      <td>1513528810</td>\n",
       "      <td>1.379999e+08</td>\n",
       "      <td>1.392446e+09</td>\n",
       "      <td>5562</td>\n",
       "      <td>6.5</td>\n",
       "      <td>2015</td>\n",
       "      <td>2015-06-09</td>\n",
       "      <td>Adventure</td>\n",
       "    </tr>\n",
       "    <tr>\n",
       "      <th>2</th>\n",
       "      <td>32.985763</td>\n",
       "      <td>150000000</td>\n",
       "      <td>1513528810</td>\n",
       "      <td>1.379999e+08</td>\n",
       "      <td>1.392446e+09</td>\n",
       "      <td>5562</td>\n",
       "      <td>6.5</td>\n",
       "      <td>2015</td>\n",
       "      <td>2015-06-09</td>\n",
       "      <td>Science Fiction</td>\n",
       "    </tr>\n",
       "    <tr>\n",
       "      <th>3</th>\n",
       "      <td>32.985763</td>\n",
       "      <td>150000000</td>\n",
       "      <td>1513528810</td>\n",
       "      <td>1.379999e+08</td>\n",
       "      <td>1.392446e+09</td>\n",
       "      <td>5562</td>\n",
       "      <td>6.5</td>\n",
       "      <td>2015</td>\n",
       "      <td>2015-06-09</td>\n",
       "      <td>Thriller</td>\n",
       "    </tr>\n",
       "    <tr>\n",
       "      <th>0</th>\n",
       "      <td>28.419936</td>\n",
       "      <td>150000000</td>\n",
       "      <td>378436354</td>\n",
       "      <td>1.379999e+08</td>\n",
       "      <td>3.481613e+08</td>\n",
       "      <td>6185</td>\n",
       "      <td>7.1</td>\n",
       "      <td>2015</td>\n",
       "      <td>2015-05-13</td>\n",
       "      <td>Action</td>\n",
       "    </tr>\n",
       "  </tbody>\n",
       "</table>\n",
       "</div>"
      ],
      "text/plain": [
       "   popularity     budget     revenue    budget_adj   revenue_adj  vote_count  \\\n",
       "0   32.985763  150000000  1513528810  1.379999e+08  1.392446e+09        5562   \n",
       "1   32.985763  150000000  1513528810  1.379999e+08  1.392446e+09        5562   \n",
       "2   32.985763  150000000  1513528810  1.379999e+08  1.392446e+09        5562   \n",
       "3   32.985763  150000000  1513528810  1.379999e+08  1.392446e+09        5562   \n",
       "0   28.419936  150000000   378436354  1.379999e+08  3.481613e+08        6185   \n",
       "\n",
       "   vote_average  release_year release_date            genre  \n",
       "0           6.5          2015   2015-06-09           Action  \n",
       "1           6.5          2015   2015-06-09        Adventure  \n",
       "2           6.5          2015   2015-06-09  Science Fiction  \n",
       "3           6.5          2015   2015-06-09         Thriller  \n",
       "0           7.1          2015   2015-05-13           Action  "
      ]
     },
     "execution_count": 74,
     "metadata": {},
     "output_type": "execute_result"
    }
   ],
   "source": [
    "columns = [\"popularity\", \"budget\", \"revenue\", \"budget_adj\",\"revenue_adj\", \"vote_count\", \"vote_average\", \"release_year\", \"release_date\"]\n",
    "generesDf = moviesRaw.genres.str.split('|').apply(pd.Series)\n",
    "generesDf.index = moviesRaw.set_index(columns).index\n",
    "generesDf = generesDf.stack().reset_index(columns)\n",
    "#Rename the new column\n",
    "generesDf=generesDf.rename(columns = {0:'genre'})\n",
    "generesDf.head()"
   ]
  },
  {
   "cell_type": "markdown",
   "metadata": {},
   "source": [
    "<b>2. Split the cast into individual values</b> "
   ]
  },
  {
   "cell_type": "code",
   "execution_count": 75,
   "metadata": {},
   "outputs": [
    {
     "data": {
      "text/html": [
       "<div>\n",
       "<style>\n",
       "    .dataframe thead tr:only-child th {\n",
       "        text-align: right;\n",
       "    }\n",
       "\n",
       "    .dataframe thead th {\n",
       "        text-align: left;\n",
       "    }\n",
       "\n",
       "    .dataframe tbody tr th {\n",
       "        vertical-align: top;\n",
       "    }\n",
       "</style>\n",
       "<table border=\"1\" class=\"dataframe\">\n",
       "  <thead>\n",
       "    <tr style=\"text-align: right;\">\n",
       "      <th></th>\n",
       "      <th>popularity</th>\n",
       "      <th>budget</th>\n",
       "      <th>revenue</th>\n",
       "      <th>budget_adj</th>\n",
       "      <th>revenue_adj</th>\n",
       "      <th>vote_count</th>\n",
       "      <th>vote_average</th>\n",
       "      <th>release_year</th>\n",
       "      <th>release_date</th>\n",
       "      <th>cast</th>\n",
       "    </tr>\n",
       "  </thead>\n",
       "  <tbody>\n",
       "    <tr>\n",
       "      <th>0</th>\n",
       "      <td>32.985763</td>\n",
       "      <td>150000000</td>\n",
       "      <td>1513528810</td>\n",
       "      <td>1.379999e+08</td>\n",
       "      <td>1.392446e+09</td>\n",
       "      <td>5562</td>\n",
       "      <td>6.5</td>\n",
       "      <td>2015</td>\n",
       "      <td>2015-06-09</td>\n",
       "      <td>Chris Pratt</td>\n",
       "    </tr>\n",
       "    <tr>\n",
       "      <th>1</th>\n",
       "      <td>32.985763</td>\n",
       "      <td>150000000</td>\n",
       "      <td>1513528810</td>\n",
       "      <td>1.379999e+08</td>\n",
       "      <td>1.392446e+09</td>\n",
       "      <td>5562</td>\n",
       "      <td>6.5</td>\n",
       "      <td>2015</td>\n",
       "      <td>2015-06-09</td>\n",
       "      <td>Bryce Dallas Howard</td>\n",
       "    </tr>\n",
       "    <tr>\n",
       "      <th>2</th>\n",
       "      <td>32.985763</td>\n",
       "      <td>150000000</td>\n",
       "      <td>1513528810</td>\n",
       "      <td>1.379999e+08</td>\n",
       "      <td>1.392446e+09</td>\n",
       "      <td>5562</td>\n",
       "      <td>6.5</td>\n",
       "      <td>2015</td>\n",
       "      <td>2015-06-09</td>\n",
       "      <td>Irrfan Khan</td>\n",
       "    </tr>\n",
       "    <tr>\n",
       "      <th>3</th>\n",
       "      <td>32.985763</td>\n",
       "      <td>150000000</td>\n",
       "      <td>1513528810</td>\n",
       "      <td>1.379999e+08</td>\n",
       "      <td>1.392446e+09</td>\n",
       "      <td>5562</td>\n",
       "      <td>6.5</td>\n",
       "      <td>2015</td>\n",
       "      <td>2015-06-09</td>\n",
       "      <td>Vincent D'Onofrio</td>\n",
       "    </tr>\n",
       "    <tr>\n",
       "      <th>4</th>\n",
       "      <td>32.985763</td>\n",
       "      <td>150000000</td>\n",
       "      <td>1513528810</td>\n",
       "      <td>1.379999e+08</td>\n",
       "      <td>1.392446e+09</td>\n",
       "      <td>5562</td>\n",
       "      <td>6.5</td>\n",
       "      <td>2015</td>\n",
       "      <td>2015-06-09</td>\n",
       "      <td>Nick Robinson</td>\n",
       "    </tr>\n",
       "  </tbody>\n",
       "</table>\n",
       "</div>"
      ],
      "text/plain": [
       "   popularity     budget     revenue    budget_adj   revenue_adj  vote_count  \\\n",
       "0   32.985763  150000000  1513528810  1.379999e+08  1.392446e+09        5562   \n",
       "1   32.985763  150000000  1513528810  1.379999e+08  1.392446e+09        5562   \n",
       "2   32.985763  150000000  1513528810  1.379999e+08  1.392446e+09        5562   \n",
       "3   32.985763  150000000  1513528810  1.379999e+08  1.392446e+09        5562   \n",
       "4   32.985763  150000000  1513528810  1.379999e+08  1.392446e+09        5562   \n",
       "\n",
       "   vote_average  release_year release_date                 cast  \n",
       "0           6.5          2015   2015-06-09          Chris Pratt  \n",
       "1           6.5          2015   2015-06-09  Bryce Dallas Howard  \n",
       "2           6.5          2015   2015-06-09          Irrfan Khan  \n",
       "3           6.5          2015   2015-06-09    Vincent D'Onofrio  \n",
       "4           6.5          2015   2015-06-09        Nick Robinson  "
      ]
     },
     "execution_count": 75,
     "metadata": {},
     "output_type": "execute_result"
    }
   ],
   "source": [
    "castDf = moviesRaw.cast.str.split('|').apply(pd.Series)\n",
    "castDf.index = moviesRaw.set_index(columns).index\n",
    "castDf = castDf.stack().reset_index(columns)\n",
    "#Rename the new column\n",
    "castDf=castDf.rename(columns = {0:'cast'})\n",
    "castDf.head()"
   ]
  },
  {
   "cell_type": "markdown",
   "metadata": {},
   "source": [
    "<b>3. Split the production houses into individual values</b> "
   ]
  },
  {
   "cell_type": "code",
   "execution_count": 76,
   "metadata": {},
   "outputs": [
    {
     "data": {
      "text/html": [
       "<div>\n",
       "<style>\n",
       "    .dataframe thead tr:only-child th {\n",
       "        text-align: right;\n",
       "    }\n",
       "\n",
       "    .dataframe thead th {\n",
       "        text-align: left;\n",
       "    }\n",
       "\n",
       "    .dataframe tbody tr th {\n",
       "        vertical-align: top;\n",
       "    }\n",
       "</style>\n",
       "<table border=\"1\" class=\"dataframe\">\n",
       "  <thead>\n",
       "    <tr style=\"text-align: right;\">\n",
       "      <th></th>\n",
       "      <th>popularity</th>\n",
       "      <th>budget</th>\n",
       "      <th>revenue</th>\n",
       "      <th>budget_adj</th>\n",
       "      <th>revenue_adj</th>\n",
       "      <th>vote_count</th>\n",
       "      <th>vote_average</th>\n",
       "      <th>release_year</th>\n",
       "      <th>release_date</th>\n",
       "      <th>production_companies</th>\n",
       "    </tr>\n",
       "  </thead>\n",
       "  <tbody>\n",
       "    <tr>\n",
       "      <th>0</th>\n",
       "      <td>32.985763</td>\n",
       "      <td>150000000</td>\n",
       "      <td>1513528810</td>\n",
       "      <td>1.379999e+08</td>\n",
       "      <td>1.392446e+09</td>\n",
       "      <td>5562</td>\n",
       "      <td>6.5</td>\n",
       "      <td>2015</td>\n",
       "      <td>2015-06-09</td>\n",
       "      <td>Universal Studios</td>\n",
       "    </tr>\n",
       "    <tr>\n",
       "      <th>1</th>\n",
       "      <td>32.985763</td>\n",
       "      <td>150000000</td>\n",
       "      <td>1513528810</td>\n",
       "      <td>1.379999e+08</td>\n",
       "      <td>1.392446e+09</td>\n",
       "      <td>5562</td>\n",
       "      <td>6.5</td>\n",
       "      <td>2015</td>\n",
       "      <td>2015-06-09</td>\n",
       "      <td>Amblin Entertainment</td>\n",
       "    </tr>\n",
       "    <tr>\n",
       "      <th>2</th>\n",
       "      <td>32.985763</td>\n",
       "      <td>150000000</td>\n",
       "      <td>1513528810</td>\n",
       "      <td>1.379999e+08</td>\n",
       "      <td>1.392446e+09</td>\n",
       "      <td>5562</td>\n",
       "      <td>6.5</td>\n",
       "      <td>2015</td>\n",
       "      <td>2015-06-09</td>\n",
       "      <td>Legendary Pictures</td>\n",
       "    </tr>\n",
       "    <tr>\n",
       "      <th>3</th>\n",
       "      <td>32.985763</td>\n",
       "      <td>150000000</td>\n",
       "      <td>1513528810</td>\n",
       "      <td>1.379999e+08</td>\n",
       "      <td>1.392446e+09</td>\n",
       "      <td>5562</td>\n",
       "      <td>6.5</td>\n",
       "      <td>2015</td>\n",
       "      <td>2015-06-09</td>\n",
       "      <td>Fuji Television Network</td>\n",
       "    </tr>\n",
       "    <tr>\n",
       "      <th>4</th>\n",
       "      <td>32.985763</td>\n",
       "      <td>150000000</td>\n",
       "      <td>1513528810</td>\n",
       "      <td>1.379999e+08</td>\n",
       "      <td>1.392446e+09</td>\n",
       "      <td>5562</td>\n",
       "      <td>6.5</td>\n",
       "      <td>2015</td>\n",
       "      <td>2015-06-09</td>\n",
       "      <td>Dentsu</td>\n",
       "    </tr>\n",
       "  </tbody>\n",
       "</table>\n",
       "</div>"
      ],
      "text/plain": [
       "   popularity     budget     revenue    budget_adj   revenue_adj  vote_count  \\\n",
       "0   32.985763  150000000  1513528810  1.379999e+08  1.392446e+09        5562   \n",
       "1   32.985763  150000000  1513528810  1.379999e+08  1.392446e+09        5562   \n",
       "2   32.985763  150000000  1513528810  1.379999e+08  1.392446e+09        5562   \n",
       "3   32.985763  150000000  1513528810  1.379999e+08  1.392446e+09        5562   \n",
       "4   32.985763  150000000  1513528810  1.379999e+08  1.392446e+09        5562   \n",
       "\n",
       "   vote_average  release_year release_date     production_companies  \n",
       "0           6.5          2015   2015-06-09        Universal Studios  \n",
       "1           6.5          2015   2015-06-09     Amblin Entertainment  \n",
       "2           6.5          2015   2015-06-09       Legendary Pictures  \n",
       "3           6.5          2015   2015-06-09  Fuji Television Network  \n",
       "4           6.5          2015   2015-06-09                   Dentsu  "
      ]
     },
     "execution_count": 76,
     "metadata": {},
     "output_type": "execute_result"
    }
   ],
   "source": [
    "productionDf = moviesRaw.production_companies.str.split('|').apply(pd.Series)\n",
    "productionDf.index = moviesRaw.set_index(columns).index\n",
    "productionDf = productionDf.stack().reset_index(columns)\n",
    "#Rename the new column\n",
    "productionDf=productionDf.rename(columns = {0:'production_companies'})\n",
    "productionDf.head()"
   ]
  },
  {
   "cell_type": "markdown",
   "metadata": {},
   "source": [
    "<a id='eda'></a>\n",
    "## Exploratory Data Analysis\n",
    "\n",
    "<hr>\n",
    "\n"
   ]
  },
  {
   "cell_type": "markdown",
   "metadata": {},
   "source": [
    "#### Lets first look if any variables have correlation with each other."
   ]
  },
  {
   "cell_type": "code",
   "execution_count": 77,
   "metadata": {},
   "outputs": [
    {
     "data": {
      "text/html": [
       "<div>\n",
       "<style>\n",
       "    .dataframe thead tr:only-child th {\n",
       "        text-align: right;\n",
       "    }\n",
       "\n",
       "    .dataframe thead th {\n",
       "        text-align: left;\n",
       "    }\n",
       "\n",
       "    .dataframe tbody tr th {\n",
       "        vertical-align: top;\n",
       "    }\n",
       "</style>\n",
       "<table border=\"1\" class=\"dataframe\">\n",
       "  <thead>\n",
       "    <tr style=\"text-align: right;\">\n",
       "      <th></th>\n",
       "      <th>popularity</th>\n",
       "      <th>budget</th>\n",
       "      <th>revenue</th>\n",
       "      <th>runtime</th>\n",
       "      <th>vote_count</th>\n",
       "      <th>vote_average</th>\n",
       "      <th>release_year</th>\n",
       "      <th>budget_adj</th>\n",
       "      <th>revenue_adj</th>\n",
       "    </tr>\n",
       "  </thead>\n",
       "  <tbody>\n",
       "    <tr>\n",
       "      <th>popularity</th>\n",
       "      <td>1.000000</td>\n",
       "      <td>0.545472</td>\n",
       "      <td>0.663358</td>\n",
       "      <td>0.139033</td>\n",
       "      <td>0.800828</td>\n",
       "      <td>0.209511</td>\n",
       "      <td>0.089801</td>\n",
       "      <td>0.513550</td>\n",
       "      <td>0.609083</td>\n",
       "    </tr>\n",
       "    <tr>\n",
       "      <th>budget</th>\n",
       "      <td>0.545472</td>\n",
       "      <td>1.000000</td>\n",
       "      <td>0.734901</td>\n",
       "      <td>0.191283</td>\n",
       "      <td>0.632702</td>\n",
       "      <td>0.081014</td>\n",
       "      <td>0.115931</td>\n",
       "      <td>0.968963</td>\n",
       "      <td>0.622505</td>\n",
       "    </tr>\n",
       "    <tr>\n",
       "      <th>revenue</th>\n",
       "      <td>0.663358</td>\n",
       "      <td>0.734901</td>\n",
       "      <td>1.000000</td>\n",
       "      <td>0.162838</td>\n",
       "      <td>0.791175</td>\n",
       "      <td>0.172564</td>\n",
       "      <td>0.057048</td>\n",
       "      <td>0.706427</td>\n",
       "      <td>0.919110</td>\n",
       "    </tr>\n",
       "    <tr>\n",
       "      <th>runtime</th>\n",
       "      <td>0.139033</td>\n",
       "      <td>0.191283</td>\n",
       "      <td>0.162838</td>\n",
       "      <td>1.000000</td>\n",
       "      <td>0.163278</td>\n",
       "      <td>0.156835</td>\n",
       "      <td>-0.117204</td>\n",
       "      <td>0.221114</td>\n",
       "      <td>0.175676</td>\n",
       "    </tr>\n",
       "    <tr>\n",
       "      <th>vote_count</th>\n",
       "      <td>0.800828</td>\n",
       "      <td>0.632702</td>\n",
       "      <td>0.791175</td>\n",
       "      <td>0.163278</td>\n",
       "      <td>1.000000</td>\n",
       "      <td>0.253823</td>\n",
       "      <td>0.107948</td>\n",
       "      <td>0.587051</td>\n",
       "      <td>0.707942</td>\n",
       "    </tr>\n",
       "    <tr>\n",
       "      <th>vote_average</th>\n",
       "      <td>0.209511</td>\n",
       "      <td>0.081014</td>\n",
       "      <td>0.172564</td>\n",
       "      <td>0.156835</td>\n",
       "      <td>0.253823</td>\n",
       "      <td>1.000000</td>\n",
       "      <td>-0.117632</td>\n",
       "      <td>0.093039</td>\n",
       "      <td>0.193085</td>\n",
       "    </tr>\n",
       "    <tr>\n",
       "      <th>release_year</th>\n",
       "      <td>0.089801</td>\n",
       "      <td>0.115931</td>\n",
       "      <td>0.057048</td>\n",
       "      <td>-0.117204</td>\n",
       "      <td>0.107948</td>\n",
       "      <td>-0.117632</td>\n",
       "      <td>1.000000</td>\n",
       "      <td>0.016793</td>\n",
       "      <td>-0.066256</td>\n",
       "    </tr>\n",
       "    <tr>\n",
       "      <th>budget_adj</th>\n",
       "      <td>0.513550</td>\n",
       "      <td>0.968963</td>\n",
       "      <td>0.706427</td>\n",
       "      <td>0.221114</td>\n",
       "      <td>0.587051</td>\n",
       "      <td>0.093039</td>\n",
       "      <td>0.016793</td>\n",
       "      <td>1.000000</td>\n",
       "      <td>0.646607</td>\n",
       "    </tr>\n",
       "    <tr>\n",
       "      <th>revenue_adj</th>\n",
       "      <td>0.609083</td>\n",
       "      <td>0.622505</td>\n",
       "      <td>0.919110</td>\n",
       "      <td>0.175676</td>\n",
       "      <td>0.707942</td>\n",
       "      <td>0.193085</td>\n",
       "      <td>-0.066256</td>\n",
       "      <td>0.646607</td>\n",
       "      <td>1.000000</td>\n",
       "    </tr>\n",
       "  </tbody>\n",
       "</table>\n",
       "</div>"
      ],
      "text/plain": [
       "              popularity    budget   revenue   runtime  vote_count  \\\n",
       "popularity      1.000000  0.545472  0.663358  0.139033    0.800828   \n",
       "budget          0.545472  1.000000  0.734901  0.191283    0.632702   \n",
       "revenue         0.663358  0.734901  1.000000  0.162838    0.791175   \n",
       "runtime         0.139033  0.191283  0.162838  1.000000    0.163278   \n",
       "vote_count      0.800828  0.632702  0.791175  0.163278    1.000000   \n",
       "vote_average    0.209511  0.081014  0.172564  0.156835    0.253823   \n",
       "release_year    0.089801  0.115931  0.057048 -0.117204    0.107948   \n",
       "budget_adj      0.513550  0.968963  0.706427  0.221114    0.587051   \n",
       "revenue_adj     0.609083  0.622505  0.919110  0.175676    0.707942   \n",
       "\n",
       "              vote_average  release_year  budget_adj  revenue_adj  \n",
       "popularity        0.209511      0.089801    0.513550     0.609083  \n",
       "budget            0.081014      0.115931    0.968963     0.622505  \n",
       "revenue           0.172564      0.057048    0.706427     0.919110  \n",
       "runtime           0.156835     -0.117204    0.221114     0.175676  \n",
       "vote_count        0.253823      0.107948    0.587051     0.707942  \n",
       "vote_average      1.000000     -0.117632    0.093039     0.193085  \n",
       "release_year     -0.117632      1.000000    0.016793    -0.066256  \n",
       "budget_adj        0.093039      0.016793    1.000000     0.646607  \n",
       "revenue_adj       0.193085     -0.066256    0.646607     1.000000  "
      ]
     },
     "execution_count": 77,
     "metadata": {},
     "output_type": "execute_result"
    }
   ],
   "source": [
    "corr = moviesRaw.corr()\n",
    "corr"
   ]
  },
  {
   "cell_type": "code",
   "execution_count": 78,
   "metadata": {},
   "outputs": [
    {
     "data": {
      "text/plain": [
       "Text(0.5,1,'Heatmap depicting correlation b/w features')"
      ]
     },
     "execution_count": 78,
     "metadata": {},
     "output_type": "execute_result"
    },
    {
     "data": {
      "image/png": "[encoded data removed]",
      "text/plain": [
       "<matplotlib.figure.Figure at 0x1a1e57d4a8>"
      ]
     },
     "metadata": {},
     "output_type": "display_data"
    }
   ],
   "source": [
    "# Lets Also Draw a heatmap\n",
    "\n",
    "# HeatMap :\n",
    "mask = np.zeros_like(corr, dtype=np.bool)\n",
    "mask[np.triu_indices_from(mask)] = True\n",
    "\n",
    "# Set up the matplotlib figure\n",
    "f, ax = plt.subplots(figsize=(30, 10))\n",
    "\n",
    "# Generate a custom diverging colormap\n",
    "cmap = sns.diverging_palette(250, 50, as_cmap=True)\n",
    "\n",
    "# Draw the heatmap with the mask and correct aspect ratio\n",
    "sns.heatmap(corr, mask=mask, cmap=cmap, vmax=.3, center=0,\n",
    "            square=True, linewidths=.5, cbar_kws={\"shrink\": .5})\n",
    "plt.title(\"Heatmap depicting correlation b/w features\")"
   ]
  },
  {
   "cell_type": "markdown",
   "metadata": {},
   "source": [
    "> We can see from the correlation matrix that budget, revenue & popularity are all positively correlated.\n",
    "   Also vote_count seems to be positively correlated to the above three properties which should be expected : \n",
    "    More popular the movie, more the people who vote for it."
   ]
  },
  {
   "cell_type": "markdown",
   "metadata": {},
   "source": [
    "### Research Question 1 ( What is vote_average year to year? Are movies getting better/ worse?)"
   ]
  },
  {
   "cell_type": "markdown",
   "metadata": {},
   "source": [
    "### <font color = 'blue'>vote_average</font> statistics\n",
    "> Lets find out what is the average rating movies get."
   ]
  },
  {
   "cell_type": "code",
   "execution_count": 79,
   "metadata": {},
   "outputs": [
    {
     "name": "stdout",
     "output_type": "stream",
     "text": [
      "Mean Vote Average  5.974921774342001\n",
      "Median Vote Average  6.0\n",
      "Standard Deviation  0.9350987836993223\n"
     ]
    }
   ],
   "source": [
    "# Measures of central tendency\n",
    "# Mean vote_average\n",
    "print(\"Mean Vote Average \", np.mean(moviesRaw[\"vote_average\"]))\n",
    "print(\"Median Vote Average \", np.median(moviesRaw[\"vote_average\"]))\n",
    "\n",
    "# Measures of variabilty\n",
    "print(\"Standard Deviation \", np.std(moviesRaw[\"vote_average\"]))\n"
   ]
  },
  {
   "cell_type": "code",
   "execution_count": 80,
   "metadata": {},
   "outputs": [
    {
     "data": {
      "text/plain": [
       "Text(0.5,1,'Vote Average Distribution. Most movies get an average vote of 6')"
      ]
     },
     "execution_count": 80,
     "metadata": {},
     "output_type": "execute_result"
    },
    {
     "data": {
      "image/png": "[encoded data removed]",
      "text/plain": [
       "<matplotlib.figure.Figure at 0x1a131aa588>"
      ]
     },
     "metadata": {},
     "output_type": "display_data"
    }
   ],
   "source": [
    "# Visualize? Mode is better to tell from a histogram\n",
    "\n",
    "bins = np.linspace(0, 10, 20)\n",
    "moviesRaw[\"vote_average\"].plot(kind = 'hist', bins = bins )\n",
    "plt.xlabel(\"vote_average\")\n",
    "plt.title(\"Vote Average Distribution. Most movies get an average vote of 6\")"
   ]
  },
  {
   "cell_type": "markdown",
   "metadata": {},
   "source": [
    "> Looks like most of the vote_average falls around 6."
   ]
  },
  {
   "cell_type": "code",
   "execution_count": 81,
   "metadata": {},
   "outputs": [
    {
     "data": {
      "text/plain": [
       "Text(0.5,1,'Vote Average Over the years')"
      ]
     },
     "execution_count": 81,
     "metadata": {},
     "output_type": "execute_result"
    },
    {
     "data": {
      "image/png": "[encoded data removed]",
      "text/plain": [
       "<matplotlib.figure.Figure at 0x1a1bc59240>"
      ]
     },
     "metadata": {},
     "output_type": "display_data"
    }
   ],
   "source": [
    "# Vote Average over the years ?\n",
    "moviesRaw.groupby(\"release_year\")[\"vote_average\"].mean().plot()\n",
    "plt.xlabel(\"Release Year\")\n",
    "plt.title(\"Vote Average Over the years\")"
   ]
  },
  {
   "cell_type": "markdown",
   "metadata": {},
   "source": [
    "> Looking at the graph, we can see that vote_average has fallen through the years! Is it because movies are getting worse? Well vote_average doesn't seem to have a clear negative correlation with any other variable. Maybe movies are getting worse maybe not. Maybe it has something to do with vote count?"
   ]
  },
  {
   "cell_type": "code",
   "execution_count": 82,
   "metadata": {},
   "outputs": [
    {
     "data": {
      "text/plain": [
       "Text(0.5,1,'Vote Count over the years')"
      ]
     },
     "execution_count": 82,
     "metadata": {},
     "output_type": "execute_result"
    },
    {
     "data": {
      "image/png": "[encoded data removed]",
      "text/plain": [
       "<matplotlib.figure.Figure at 0x1a1bb60e48>"
      ]
     },
     "metadata": {},
     "output_type": "display_data"
    }
   ],
   "source": [
    "# Lets study vote_count over the years!\n",
    "\n",
    "moviesRaw.groupby(\"release_year\")[\"vote_count\"].mean().plot()\n",
    "plt.xlabel(\"Release Year\")\n",
    "plt.title(\"Vote Count over the years\")"
   ]
  },
  {
   "cell_type": "markdown",
   "metadata": {},
   "source": [
    "> The vote count has increased over the years. Maybe that is a reason. More the people who vote, more scrutiny? Again just a hypotheses."
   ]
  },
  {
   "cell_type": "markdown",
   "metadata": {},
   "source": [
    "### Research Question 2 (Which genres are most popular from year to year?)"
   ]
  },
  {
   "cell_type": "code",
   "execution_count": 83,
   "metadata": {},
   "outputs": [
    {
     "name": "stderr",
     "output_type": "stream",
     "text": [
      "/Users/ishans/anaconda3/lib/python3.6/site-packages/scipy/stats/stats.py:253: RuntimeWarning: The input array could not be properly checked for nan values. nan values will be ignored.\n",
      "  \"values. nan values will be ignored.\", RuntimeWarning)\n"
     ]
    },
    {
     "data": {
      "text/plain": [
       "release_year\n",
       "1960     Drama\n",
       "1961     Drama\n",
       "1962     Drama\n",
       "1963    Comedy\n",
       "1964     Drama\n",
       "1965     Drama\n",
       "1966    Comedy\n",
       "1967    Comedy\n",
       "1968     Drama\n",
       "1969     Drama\n",
       "1970     Drama\n",
       "1971     Drama\n",
       "1972     Drama\n",
       "1973     Drama\n",
       "1974     Drama\n",
       "1975     Drama\n",
       "1976     Drama\n",
       "1977     Drama\n",
       "1978     Drama\n",
       "1979     Drama\n",
       "1980     Drama\n",
       "1981     Drama\n",
       "1982     Drama\n",
       "1983     Drama\n",
       "1984     Drama\n",
       "1985    Comedy\n",
       "1986     Drama\n",
       "1987    Comedy\n",
       "1988    Comedy\n",
       "1989    Comedy\n",
       "1990     Drama\n",
       "1991     Drama\n",
       "1992     Drama\n",
       "1993     Drama\n",
       "1994    Comedy\n",
       "1995     Drama\n",
       "1996     Drama\n",
       "1997     Drama\n",
       "1998     Drama\n",
       "1999     Drama\n",
       "2000     Drama\n",
       "2001    Comedy\n",
       "2002     Drama\n",
       "2003    Comedy\n",
       "2004     Drama\n",
       "2005     Drama\n",
       "2006     Drama\n",
       "2007     Drama\n",
       "2008     Drama\n",
       "2009     Drama\n",
       "2010     Drama\n",
       "2011     Drama\n",
       "2012     Drama\n",
       "2013     Drama\n",
       "2014     Drama\n",
       "2015     Drama\n",
       "Name: genre, dtype: object"
      ]
     },
     "execution_count": 83,
     "metadata": {},
     "output_type": "execute_result"
    }
   ],
   "source": [
    "# We will use our genres dataframe for this question.\n",
    "\n",
    "def modeString(list):\n",
    "    \"\"\"This function will find the most frequently occuring string in the given list of string.\"\"\"\n",
    "    npArr = np.array(list)\n",
    "    item, mode = stats.mode(npArr)\n",
    "    return item\n",
    "\n",
    "genresByYear = generesDf.groupby(['release_year'])['genre'].agg(modeString)\n",
    "genresByYear.head(56)"
   ]
  },
  {
   "cell_type": "code",
   "execution_count": 84,
   "metadata": {},
   "outputs": [
    {
     "data": {
      "text/plain": [
       "Text(0.5,1,'Most popular genre over the years')"
      ]
     },
     "execution_count": 84,
     "metadata": {},
     "output_type": "execute_result"
    },
    {
     "data": {
      "image/png": "[encoded data removed]",
      "text/plain": [
       "<matplotlib.figure.Figure at 0x1a13598518>"
      ]
     },
     "metadata": {},
     "output_type": "display_data"
    }
   ],
   "source": [
    "genresByYear.value_counts().plot(kind=\"pie\", shadow = True, startangle = 90)\n",
    "plt.title(\"Most popular genre over the years\")"
   ]
  },
  {
   "cell_type": "markdown",
   "metadata": {},
   "source": [
    "> \"Drama\" seems to be the most popular genre year after year with comedy sometimes tipping it off from its first position."
   ]
  },
  {
   "cell_type": "code",
   "execution_count": 85,
   "metadata": {},
   "outputs": [
    {
     "data": {
      "image/png": "[encoded data removed]",
      "text/plain": [
       "<matplotlib.figure.Figure at 0x1a221b88d0>"
      ]
     },
     "metadata": {},
     "output_type": "display_data"
    }
   ],
   "source": [
    "# Example Genre visualization for year 2015\n",
    "\n",
    "genresYear2015 = generesDf[generesDf[\"release_year\"] == 2015].groupby(\"genre\")[\"vote_count\"].count()\n",
    "genresYear2015.plot(kind=\"bar\")\n",
    "plt.xlabel(\"Genres\")\n",
    "plt.ylabel(\"Frequency\")\n",
    "plt.title(\"Genre distribution in year 2015\")\n",
    "plt.show()"
   ]
  },
  {
   "cell_type": "markdown",
   "metadata": {},
   "source": [
    "<hr>"
   ]
  },
  {
   "cell_type": "markdown",
   "metadata": {},
   "source": [
    "### Research Question 3  (Highest grossing genres? / Most popular genres?/ Most Expensive genres?)"
   ]
  },
  {
   "cell_type": "markdown",
   "metadata": {},
   "source": [
    "####  - Highest grossing genres "
   ]
  },
  {
   "cell_type": "code",
   "execution_count": 86,
   "metadata": {},
   "outputs": [
    {
     "data": {
      "text/plain": [
       "genre\n",
       "TV Movie           3.496353e+05\n",
       "Foreign            1.784286e+06\n",
       "Documentary        2.258210e+06\n",
       "Horror             2.408271e+07\n",
       "Drama              4.040885e+07\n",
       "Western            4.610126e+07\n",
       "Music              4.665592e+07\n",
       "Comedy             4.789700e+07\n",
       "History            4.794858e+07\n",
       "Romance            4.820022e+07\n",
       "Mystery            5.088930e+07\n",
       "Thriller           5.526742e+07\n",
       "Crime              5.659533e+07\n",
       "War                6.998611e+07\n",
       "Animation          8.525613e+07\n",
       "Science Fiction    8.690849e+07\n",
       "Family             8.773671e+07\n",
       "Action             9.172020e+07\n",
       "Fantasy            1.112342e+08\n",
       "Adventure          1.416752e+08\n",
       "Name: revenue_adj, dtype: float64"
      ]
     },
     "execution_count": 86,
     "metadata": {},
     "output_type": "execute_result"
    }
   ],
   "source": [
    "# For finding the highest grossing genre, group the data by genre and find the avg of the revnue.\n",
    "\n",
    "revenueByGeneres = generesDf.groupby(\"genre\")[\"revenue_adj\"].mean()\n",
    "revenueByGeneres.sort_values()"
   ]
  },
  {
   "cell_type": "code",
   "execution_count": 87,
   "metadata": {},
   "outputs": [
    {
     "data": {
      "image/png": "[encoded data removed]",
      "text/plain": [
       "<matplotlib.figure.Figure at 0x1a0f3536d8>"
      ]
     },
     "metadata": {},
     "output_type": "display_data"
    }
   ],
   "source": [
    "# Plot a bar chart of the genre vs avg revnue.\n",
    "revenueByGeneres.plot(kind=\"bar\")\n",
    "plt.ylabel(\"Average Revenue\")\n",
    "plt.title(\"Revenue Distribution by genre\")\n",
    "plt.show()"
   ]
  },
  {
   "cell_type": "markdown",
   "metadata": {},
   "source": [
    "> Even though \"Drama\" is the most made genre, \"Adventure\" seems to be the highest grossing genre(on average!), followed by \"Fantasy\".."
   ]
  },
  {
   "cell_type": "markdown",
   "metadata": {},
   "source": [
    "#### - Most popular genres"
   ]
  },
  {
   "cell_type": "code",
   "execution_count": 88,
   "metadata": {},
   "outputs": [
    {
     "name": "stdout",
     "output_type": "stream",
     "text": [
      "6.5e-05 32.985763\n"
     ]
    },
    {
     "data": {
      "text/plain": [
       "Text(0.5,1,'Popularity distribution by genre')"
      ]
     },
     "execution_count": 88,
     "metadata": {},
     "output_type": "execute_result"
    },
    {
     "data": {
      "image/png": "[encoded data removed]",
      "text/plain": [
       "<matplotlib.figure.Figure at 0x1a12661860>"
      ]
     },
     "metadata": {},
     "output_type": "display_data"
    }
   ],
   "source": [
    "# Lets now find out the most popular genre. To to do this, we will group our dataset by genre and find the avg popularity.\n",
    "\n",
    "popScaleMin = moviesRaw[\"popularity\"].min()\n",
    "popSacleMax = moviesRaw[\"popularity\"].max()\n",
    "print(popScaleMin, popSacleMax)\n",
    "\n",
    "generesDf.groupby(\"genre\")[\"popularity\"].mean().plot(kind = 'bar')\n",
    "plt.ylabel(\"Average Popularity\")\n",
    "plt.title(\"Popularity distribution by genre\")"
   ]
  },
  {
   "cell_type": "markdown",
   "metadata": {},
   "source": [
    "> We should have expected this. The graph looks pretty similar to the revenue graph. Popularity and revenue should be positively correlated. The more popular a movie is, the more revenue we can expect. Adventure movies have more popularity and consequently have higher revenue. "
   ]
  },
  {
   "cell_type": "markdown",
   "metadata": {},
   "source": [
    "#### - Most Expensive genres"
   ]
  },
  {
   "cell_type": "code",
   "execution_count": 89,
   "metadata": {},
   "outputs": [
    {
     "data": {
      "text/plain": [
       "Text(0.5,1,'Budget distribution by genre')"
      ]
     },
     "execution_count": 89,
     "metadata": {},
     "output_type": "execute_result"
    },
    {
     "data": {
      "image/png": "[encoded data removed]",
      "text/plain": [
       "<matplotlib.figure.Figure at 0x1a10704c18>"
      ]
     },
     "metadata": {},
     "output_type": "display_data"
    }
   ],
   "source": [
    "# Average budget per genre?\n",
    "# To answer this question, we will group our data by genre and find the avg budget.\n",
    "\n",
    "generesDf.groupby(\"genre\")[\"budget_adj\"].mean().plot(kind = 'bar')\n",
    "plt.ylabel(\"Average Budget\")\n",
    "plt.title(\"Budget distribution by genre\")"
   ]
  },
  {
   "cell_type": "markdown",
   "metadata": {},
   "source": [
    "> Not suprisingly, Popular and high grossing movies require more budget & vice versa (More the budget, more the marketing, and conseqently more the popularity and revenue):>\n",
    "This is also clear from the correlation matrix."
   ]
  },
  {
   "cell_type": "code",
   "execution_count": 90,
   "metadata": {},
   "outputs": [
    {
     "data": {
      "text/plain": [
       "genre\n",
       "Action             5.787421\n",
       "Adventure          5.940585\n",
       "Animation          6.403147\n",
       "Comedy             5.905167\n",
       "Crime              6.124059\n",
       "Documentary        6.908462\n",
       "Drama              6.165301\n",
       "Family             5.997563\n",
       "Fantasy            5.863537\n",
       "Foreign            5.981383\n",
       "History            6.410479\n",
       "Horror             5.337447\n",
       "Music              6.480392\n",
       "Mystery            5.946790\n",
       "Romance            6.042874\n",
       "Science Fiction    5.665041\n",
       "TV Movie           5.788024\n",
       "Thriller           5.750413\n",
       "War                6.297778\n",
       "Western            6.083030\n",
       "Name: vote_average, dtype: float64"
      ]
     },
     "execution_count": 90,
     "metadata": {},
     "output_type": "execute_result"
    }
   ],
   "source": [
    "# Do certain Genres get high vote average ?\n",
    "\n",
    "generesDf.groupby(\"genre\")[\"vote_average\"].mean()"
   ]
  },
  {
   "cell_type": "markdown",
   "metadata": {},
   "source": [
    "> Looks like genres doesnt affect the vote_average (Which should be expected ;>)"
   ]
  },
  {
   "cell_type": "markdown",
   "metadata": {},
   "source": [
    "<hr>"
   ]
  },
  {
   "cell_type": "markdown",
   "metadata": {},
   "source": [
    "### Research Question 4  (Is there a specific time when majority of the movies are released?)"
   ]
  },
  {
   "cell_type": "code",
   "execution_count": 91,
   "metadata": {},
   "outputs": [
    {
     "data": {
      "text/plain": [
       "Text(0.5,1,'Feature distribution by month of the movie released')"
      ]
     },
     "execution_count": 91,
     "metadata": {},
     "output_type": "execute_result"
    },
    {
     "data": {
      "image/png": "[encoded data removed]",
      "text/plain": [
       "<matplotlib.figure.Figure at 0x1a0f6dfc50>"
      ]
     },
     "metadata": {},
     "output_type": "display_data"
    }
   ],
   "source": [
    "# Lets find if there is a specific month\n",
    "moviesRaw[\"monthReleased\"] = moviesRaw[\"release_date\"].dt.month\n",
    "moviesRaw.groupby(\"monthReleased\").sum().plot(kind = 'bar')\n",
    "plt.xlabel(\"Month of the year. 1 for january etc\")\n",
    "plt.title(\"Feature distribution by month of the movie released\")"
   ]
  },
  {
   "cell_type": "markdown",
   "metadata": {},
   "source": [
    "> This finding is in conjuction with what is called <b>DUMP MONTHS</b>. See https://en.wikipedia.org/wiki/Dump_months.\n",
    "Movies that have high budget/revenue are not released in jan/fed & Aug/Sept since these months are expected to have fewer viewers."
   ]
  },
  {
   "cell_type": "markdown",
   "metadata": {},
   "source": [
    "### Research Question 5 ( Actors that have the maximum movies ?)"
   ]
  },
  {
   "cell_type": "code",
   "execution_count": 92,
   "metadata": {},
   "outputs": [
    {
     "data": {
      "text/plain": [
       "Text(0.5,1,'Movie distribution by Actor')"
      ]
     },
     "execution_count": 92,
     "metadata": {},
     "output_type": "execute_result"
    },
    {
     "data": {
      "image/png": "[encoded data removed]",
      "text/plain": [
       "<matplotlib.figure.Figure at 0x10b3d58d0>"
      ]
     },
     "metadata": {},
     "output_type": "display_data"
    }
   ],
   "source": [
    "# To do this, we will work with the cast dataframe t\n",
    "castDf.groupby(\"cast\")[\"release_year\"].count().sort_values(ascending =False).head(5).plot(kind = 'bar')\n",
    "plt.ylabel(\"Number of movies\")\n",
    "plt.xlabel(\"Actor\")\n",
    "plt.title(\"Movie distribution by Actor\")"
   ]
  },
  {
   "cell_type": "markdown",
   "metadata": {},
   "source": [
    "> Robert De Niro and Samuel L Jackson have the maximum movies!"
   ]
  },
  {
   "cell_type": "markdown",
   "metadata": {},
   "source": [
    "### Research Question 6 ( Production Houses that have the maximum movies vs Production Houses that drive the most revenue.)"
   ]
  },
  {
   "cell_type": "code",
   "execution_count": 93,
   "metadata": {},
   "outputs": [
    {
     "data": {
      "text/plain": [
       "Text(0.5,1,'Distribution of movies by Production Houses')"
      ]
     },
     "execution_count": 93,
     "metadata": {},
     "output_type": "execute_result"
    },
    {
     "data": {
      "image/png": "[encoded data removed]",
      "text/plain": [
       "<matplotlib.figure.Figure at 0x1a105ddf60>"
      ]
     },
     "metadata": {},
     "output_type": "display_data"
    }
   ],
   "source": [
    "# Production Houses that have the maximum movies!\n",
    "# For this question, we will use the production houses dataframe!\n",
    "\n",
    "productionDf.groupby(\"production_companies\")[\"release_year\"].count().sort_values(ascending = False).head().plot(kind = 'bar')\n",
    "plt.xlabel(\"Production Houses\")\n",
    "plt.ylabel(\"Number of movies\")\n",
    "plt.title(\"Distribution of movies by Production Houses\")"
   ]
  },
  {
   "cell_type": "code",
   "execution_count": 94,
   "metadata": {},
   "outputs": [
    {
     "data": {
      "text/plain": [
       "Text(0.5,1,'Total revenue distrubution by production houses')"
      ]
     },
     "execution_count": 94,
     "metadata": {},
     "output_type": "execute_result"
    },
    {
     "data": {
      "image/png": "[encoded data removed]",
      "text/plain": [
       "<matplotlib.figure.Figure at 0x1a1ea2e400>"
      ]
     },
     "metadata": {},
     "output_type": "display_data"
    }
   ],
   "source": [
    "# Production Houses that drive the most revenue\n",
    "\n",
    "productionDf.groupby(\"production_companies\")[\"revenue_adj\"].sum().sort_values(ascending = False).head().plot(kind = 'bar')\n",
    "plt.xlabel(\"Production Houses\")\n",
    "plt.ylabel(\"Total Revenue\")\n",
    "plt.title(\"Total revenue distrubution by production houses\")"
   ]
  },
  {
   "cell_type": "markdown",
   "metadata": {},
   "source": [
    "> Even though Universal Pictures has the maximum number of movies, Warner Bros has the highest revenue generated!"
   ]
  },
  {
   "cell_type": "markdown",
   "metadata": {},
   "source": [
    "<hr>"
   ]
  },
  {
   "cell_type": "markdown",
   "metadata": {},
   "source": [
    "<a id='conclusions'></a>\n",
    "## Conclusions\n",
    "\n",
    "    DataSet limitations : The data set only had 10k enteries for the past 50+ years. Even if drama is the most common genre in this sample, we can't really be sure if drama is indeed the most genre every year.    \n",
    "    \n",
    "    We couldnt conclude whether vore_average going down over the years was because the movies were getting worse or beacuse more people vote for newer movies (and hence more scrutiny). Eg we want to build a vote_average prediction system. We cant really use the date field since we are not really sure if that affects it in any way possible.\n",
    "    \n",
    "    \n",
    "    A Brief summary of what we found out:\n",
    "    \n",
    "    - Vote Average has gone down over the years.\n",
    "    - Drama is the most common genre year to year.\n",
    "    - More the budget, more likely the movie is to be popular and hence likely to get more revenue.\n",
    "    - Adventure is the most expensive genre. Also, it is the most popular & highest grossing (Because of the above correlation).\n",
    "    - Movies that have high budget/revenue are not released in jan/fed & Aug/Sept (or Dump months).\n",
    "    - Robert De Niro and Samuel L Jackson have the maximum movies\n",
    "    - Even though Universal Pictures has the maximum number of movies, Warner Bros has the highest revenue generated!"
   ]
  },
  {
   "cell_type": "code",
   "execution_count": null,
   "metadata": {
    "collapsed": true
   },
   "outputs": [],
   "source": []
  }
 ],
 "metadata": {
  "kernelspec": {
   "display_name": "Python 3",
   "language": "python",
   "name": "python3"
  },
  "language_info": {
   "codemirror_mode": {
    "name": "ipython",
    "version": 3
   },
   "file_extension": ".py",
   "mimetype": "text/x-python",
   "name": "python",
   "nbconvert_exporter": "python",
   "pygments_lexer": "ipython3",
   "version": "3.6.3"
  }
 },
 "nbformat": 4,
 "nbformat_minor": 2
}
