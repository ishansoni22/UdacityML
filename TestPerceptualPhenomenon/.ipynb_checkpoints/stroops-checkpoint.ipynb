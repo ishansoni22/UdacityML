{
 "cells": [
  {
   "cell_type": "markdown",
   "metadata": {},
   "source": [
    "## TEST A PERCEPTUAL PHENOMENON ASSIGNMENT (STROOP TASK)\n",
    "By : ISHAN SONI"
   ]
  },
  {
   "cell_type": "markdown",
   "metadata": {},
   "source": [
    "A Brief summary about the experiment -\n",
    "\n",
    "\n",
    "In a Stroop task, participants are presented with a list of words, with each word displayed in a color of ink. The participant’s task is to say out loud the color of the ink in which the word is printed. The task has <b>two</b> conditions: a <b>congruent</b> words condition, and an <b>incongruent</b> words condition. In the congruent words condition, the words being displayed are color words whose names match the colors in which they are printed: for example <font color = 'red'>RED</font>, <font color = 'blue'>BLUE</font>. In the incongruent words condition, the words displayed are color words whose names do not match the colors in which they are printed: for example <font color = 'green'>PURPLE</font>, <font color='purple'>ORANGE</font>. In each case, we measure the time it takes to name the ink colors in equally-sized lists. Each participant will go through and record a time from each condition."
   ]
  },
  {
   "cell_type": "markdown",
   "metadata": {},
   "source": [
    "<hr>"
   ]
  },
  {
   "cell_type": "markdown",
   "metadata": {},
   "source": [
    "### QUESTIONS\n",
    "\n",
    "1. What is our independent variable? What is our dependent variable?\n",
    "2. What is an appropriate set of hypotheses for this task? What kind of statistical test do you expect to perform? Justify your choices.\n",
    "Now it’s your chance to try out the Stroop task for yourself. Go to this link, which has a Java-based applet for performing the Stroop task. Record the times that you received on the task (you do not need to submit your times to the site.) Now, download this dataset which contains results from a number of participants in the task. Each row of the dataset contains the performance for one participant, with the first number their results on the congruent task and the second number their performance on the incongruent task.\n",
    "3. Report some descriptive statistics regarding this dataset. Include at least one measure of central tendency and at least one measure of variability.\n",
    "4. Provide one or two visualizations that show the distribution of the sample data. Write one or two sentences noting what you observe about the plot or plots.\n",
    "5. Now, perform the statistical test and report your results. What is your confidence level and your critical statistic value? Do you reject the null hypothesis or fail to reject it? Come to a conclusion in terms of the experiment task. Did the results match up with your expectations?\n",
    "6. Optional: What do you think is responsible for the effects observed? Can you think of an alternative or similar task that would result in a similar effect? Some research about the problem will be helpful for thinking about these two questions!"
   ]
  },
  {
   "cell_type": "markdown",
   "metadata": {},
   "source": [
    "<hr>"
   ]
  },
  {
   "cell_type": "markdown",
   "metadata": {},
   "source": [
    "### <font color = 'green'>1 : What is our independent variable? What is our dependent variable?</font>"
   ]
  },
  {
   "cell_type": "markdown",
   "metadata": {},
   "source": [
    "The independent variable for this experiement is the <b>CONDITION</b> (congruent words condition & incongruent words condition). So our X variable can take these two options.\n",
    "\n",
    "The dependent variable or the Y variable is the <b>reaction time</b> or the time it takes to name the ink colors."
   ]
  },
  {
   "cell_type": "markdown",
   "metadata": {},
   "source": [
    "### <font color='green'>2 : What is an appropriate set of hypotheses for this task? What kind of statistical test do you expect to perform?</font>"
   ]
  },
  {
   "cell_type": "markdown",
   "metadata": {},
   "source": [
    "We are trying to figure out <b>how</b> the two stroop conditions(congruent & incongruent) affect the time it takes people(population) to comprehend ink colors. We could do a two tail test but since we know ( from descriptive analysis and general guess ) that people will take more time during the incongurent condition (ASSUMPTION), we will do a one tail t test. We are trying to figure out using our samples how these conditions would affect when extended to the entire population.\n",
    "\n",
    "Since we don't have population parameters at are disposal and are working with samples, we will use a t-test instead of a z-test.\n",
    "<font color = 'blue'>We will do a one tail t - test in the positive direction. </font>\n",
    "\n",
    "Also, this is a <b>dependent</b> two sample one tail t test, since the same people took the pretest and posttest. So we are also accounting for individual differences.\n",
    "\n",
    "\n",
    "The Null Hypotheses(H0) :  There is no delay in the reaction time of the population during the incongruent condition. People take approximately the same time/lesser time during the incongruent condition. \n",
    "<font color = 'blue'>μ(congruent) >= μ(incongruent)</font>\n",
    "\n",
    "Alternative Hypotheses(Ha) : There is a delay in the reaction time of the population during the incongurent condition. People take more time during the incongruent condition(figure out ink colors if the ink colors are mentioned in color names that do not match the color.\n",
    "<font color = 'blue'>μ(incongruent) > μ(congruent)</font>\n",
    "\n",
    "<b> Assumptions :</b>\n",
    "1. People will take more time during the congurent condition. (Therefore , we will do a one tail t test)\n",
    "2. There will be no carry over effect.\n"
   ]
  },
  {
   "cell_type": "markdown",
   "metadata": {
    "collapsed": true
   },
   "source": [
    "### <font color = 'green'>3 :  Report some descriptive statistics regarding this dataset. Include at least one measure of central tendency and at least one measure of variability</font>\n",
    "\n"
   ]
  },
  {
   "cell_type": "code",
   "execution_count": 76,
   "metadata": {
    "collapsed": true
   },
   "outputs": [],
   "source": [
    "import pandas as pd\n",
    "import numpy as np\n",
    "import matplotlib.pyplot as plt\n",
    "%matplotlib inline"
   ]
  },
  {
   "cell_type": "code",
   "execution_count": 77,
   "metadata": {},
   "outputs": [
    {
     "name": "stdout",
     "output_type": "stream",
     "text": [
      "   Congruent  Incongruent\n",
      "0     12.079       19.278\n",
      "1     16.791       18.741\n",
      "2      9.564       21.214\n",
      "3      8.630       15.687\n",
      "4     14.669       22.803\n"
     ]
    }
   ],
   "source": [
    "#Import the DataSet\n",
    "\n",
    "testResults = pd.read_csv('stroopdata.csv')\n",
    "\n",
    "#Take a peek at the testResults\n",
    "\n",
    "print(testResults.head())\n"
   ]
  },
  {
   "cell_type": "code",
   "execution_count": 78,
   "metadata": {},
   "outputs": [
    {
     "name": "stdout",
     "output_type": "stream",
     "text": [
      "Congurent conditions Stats :\n",
      "Sample mean = 14.051125000000004\n",
      "Sample median = 14.3565\n",
      "Sample SD = 3.559357957645195\n",
      "******************************\n",
      "InCongurent conditions Stats :\n",
      "Sample mean = 22.01591666666667\n",
      "Sample median = 21.0175\n",
      "Sample SD = 4.797057122469138\n",
      "Outliers ----->\n",
      "    Congruent  Incongruent\n",
      "14     18.200       35.255\n",
      "19     12.369       34.288\n"
     ]
    }
   ],
   "source": [
    "#Some Descriptive stats\n",
    "#Separate the times into individual series\n",
    "congurentTimes = testResults['Congruent']\n",
    "inCongurentTimes = testResults['Incongruent']\n",
    "\n",
    "#Means\n",
    "congurentSampleMean = np.mean(congurentTimes)\n",
    "inCongurentSampleMean = np.mean(inCongurentTimes)\n",
    "\n",
    "#medians\n",
    "congurentSampleMedian = np.median(congurentTimes)\n",
    "inCongurentSampleMedian = np.median(inCongurentTimes)\n",
    "\n",
    "#Standard Deviations using bessels correction.\n",
    "\n",
    "congurentSampleSD = np.std(congurentTimes, ddof=1)\n",
    "inCongurentSampleSD = np.std(inCongurentTimes, ddof=1)\n",
    "\n",
    "print(\"Congurent conditions Stats :\")\n",
    "print(\"Sample mean = \" + str(congurentSampleMean))\n",
    "print(\"Sample median = \" + str(congurentSampleMedian))\n",
    "print(\"Sample SD = \" + str(congurentSampleSD))\n",
    "\n",
    "print(\"******************************\")\n",
    "\n",
    "print(\"InCongurent conditions Stats :\")\n",
    "print(\"Sample mean = \" + str(inCongurentSampleMean))\n",
    "print(\"Sample median = \" + str(inCongurentSampleMedian))\n",
    "print(\"Sample SD = \" + str(inCongurentSampleSD))\n",
    "\n",
    "\n",
    "#Also it seems we have few outliers in the incongurent case. Lets check that out.\n",
    "q75, q25 = np.percentile(inCongurentTimes, [75 ,25])\n",
    "iqr = q75 - q25\n",
    "upperLimit = q75 + 1.5 * iqr\n",
    "\n",
    "print(\"Outliers ----->\")\n",
    "print(testResults[testResults['Incongruent'] > upperLimit])\n"
   ]
  },
  {
   "cell_type": "markdown",
   "metadata": {},
   "source": [
    "### <font color ='green'>4 : Provide one or two visualizations that show the distribution of the sample data. Write one or two sentences noting what you observe about the plot or plots</font>"
   ]
  },
  {
   "cell_type": "code",
   "execution_count": 79,
   "metadata": {},
   "outputs": [
    {
     "data": {
      "image/png": "[encoded data removed]",
      "text/plain": [
       "<matplotlib.figure.Figure at 0x1023aa7f0>"
      ]
     },
     "metadata": {},
     "output_type": "display_data"
    }
   ],
   "source": [
    "# Our Dependent variable is a continious variable. Lets draw some histograms.\n",
    "bins = np.linspace(0, 40, 15)\n",
    "congurentTimes.hist(bins=bins)\n",
    "plt.title(\"Congurent Condition Reaction Times\")\n",
    "plt.xlabel(\"Reaction in seconds\")\n",
    "plt.show()\n"
   ]
  },
  {
   "cell_type": "markdown",
   "metadata": {},
   "source": [
    "<b>The congurent times distribution is a little positively skewed (The mean is a little less than the median)</b>"
   ]
  },
  {
   "cell_type": "code",
   "execution_count": 80,
   "metadata": {},
   "outputs": [
    {
     "data": {
      "image/png": "[encoded data removed]",
      "text/plain": [
       "<matplotlib.figure.Figure at 0x11291b4e0>"
      ]
     },
     "metadata": {},
     "output_type": "display_data"
    }
   ],
   "source": [
    "inCongurentTimes.hist(bins=bins)\n",
    "plt.title(\"Congurent Condition Reaction Times\")\n",
    "plt.xlabel(\"Reaction in seconds\")\n",
    "plt.show()"
   ]
  },
  {
   "cell_type": "markdown",
   "metadata": {},
   "source": [
    "<b>The incongurent times distribution is a almost normal with some outliers that push the mean away from the median(i.e make it larger)</b>"
   ]
  },
  {
   "cell_type": "code",
   "execution_count": 81,
   "metadata": {},
   "outputs": [
    {
     "data": {
      "image/png": "[encoded data removed]",
      "text/plain": [
       "<matplotlib.figure.Figure at 0x112933fd0>"
      ]
     },
     "metadata": {},
     "output_type": "display_data"
    }
   ],
   "source": [
    "#Compare the two using boxplots\n",
    "testResults.plot(kind = 'box')\n",
    "plt.show()"
   ]
  },
  {
   "cell_type": "code",
   "execution_count": 68,
   "metadata": {},
   "outputs": [
    {
     "data": {
      "image/png": "[encoded data removed]",
      "text/plain": [
       "<matplotlib.figure.Figure at 0x1124a7898>"
      ]
     },
     "metadata": {},
     "output_type": "display_data"
    }
   ],
   "source": [
    "testResults.plot(kind ='hist', alpha = 0.6, bins = bins)\n",
    "plt.show()"
   ]
  },
  {
   "cell_type": "markdown",
   "metadata": {},
   "source": [
    "<font color = 'blue'>Descriptive stats gives us a clear indication that reaction times on average are more in the incongurent case for our sample. We will now use inferential stats to find out whether these results will apply to the entire population as well? </font>"
   ]
  },
  {
   "cell_type": "markdown",
   "metadata": {},
   "source": [
    "### <font color = 'green'>5 : Now, perform the statistical test and report your results. What is your confidence level and your critical statistic value? Do you reject the null hypothesis or fail to reject it? Come to a conclusion in terms of the experiment task. Did the results match up with your expectations?</font>"
   ]
  },
  {
   "cell_type": "markdown",
   "metadata": {},
   "source": [
    "Sample Size = 24\n",
    "Degrees of freedom = 23\n",
    "alpha level = 0.05\n",
    "t-critical for a one tail alpha test with df=5 and alpha level 0.05 = 1.714\n",
    "Mean of the difference = 7.964791667\n",
    "SD of the difference = 4.86482691\n",
    "Sample Error = 0.993028635\n",
    "t-statistic = 8.020706944\n",
    "p-value = The one-tailed P value is less than 0.00005 \n",
    "\n",
    "\n",
    "Result :\n",
    "\n",
    "<font color = 'red'><b>The result is extremely significant at alpha level of 0.05. So we reject the null hypotheses. The incongurent condition causes a delay in the reaction time of people to identify colors.</b></font>\n",
    "\n",
    "Yes, the results matched up with my expectations."
   ]
  },
  {
   "cell_type": "code",
   "execution_count": null,
   "metadata": {
    "collapsed": true
   },
   "outputs": [],
   "source": []
  }
 ],
 "metadata": {
  "kernelspec": {
   "display_name": "Python 3",
   "language": "python",
   "name": "python3"
  },
  "language_info": {
   "codemirror_mode": {
    "name": "ipython",
    "version": 3
   },
   "file_extension": ".py",
   "mimetype": "text/x-python",
   "name": "python",
   "nbconvert_exporter": "python",
   "pygments_lexer": "ipython3",
   "version": "3.6.3"
  }
 },
 "nbformat": 4,
 "nbformat_minor": 2
}
